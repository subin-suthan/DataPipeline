{
 "cells": [
  {
   "cell_type": "code",
   "execution_count": 1,
   "metadata": {},
   "outputs": [],
   "source": [
    "import pyspark as sp\n",
    "from pyspark.sql import SparkSession\n",
    "from pyspark.sql.functions import col,date_format,concat,substring,lit,lpad,to_timestamp,when\n",
    "import  pandas as pd\n",
    "import os"
   ]
  },
  {
   "cell_type": "code",
   "execution_count": 2,
   "metadata": {},
   "outputs": [
    {
     "name": "stderr",
     "output_type": "stream",
     "text": [
      "24/04/18 10:44:16 WARN Utils: Your hostname, Subins-MacBook-Pro.local resolves to a loopback address: 127.0.0.1; using 10.65.210.91 instead (on interface en0)\n",
      "24/04/18 10:44:16 WARN Utils: Set SPARK_LOCAL_IP if you need to bind to another address\n",
      "Setting default log level to \"WARN\".\n",
      "To adjust logging level use sc.setLogLevel(newLevel). For SparkR, use setLogLevel(newLevel).\n",
      "24/04/18 10:44:17 WARN NativeCodeLoader: Unable to load native-hadoop library for your platform... using builtin-java classes where applicable\n"
     ]
    }
   ],
   "source": [
    "spark = SparkSession.builder \\\n",
    "    .appName(\"PreProcessing\") \\\n",
    "    .getOrCreate()"
   ]
  },
  {
   "cell_type": "code",
   "execution_count": 3,
   "metadata": {},
   "outputs": [],
   "source": [
    "for filename in os.listdir(\"./dataConverted\"):\n",
    "    #   entry=os.path.join(\"./dataConverted\",dir)  \n",
    "    #   if os.path.isdir(entry):\n",
    "            #for filename in os.listdir(entry):\n",
    "                  df=spark.read.option(\"header\",\"true\").option(\"inferSchema\", \"true\").csv(\"./dataConverted/\"+filename)\n",
    "                  df = df.withColumn(\"lat\", df[\"lat\"] / 1000)\n",
    "                  df = df.withColumn(\"long\", df[\"long\"] / 1000)\n",
    "                  df = df.withColumn(\"airtemp\", df[\"airtemp\"] / 10)\n",
    "                  df = df.withColumn(\"dewpointtemp\", df[\"dewpointtemp\"] / 10)\n",
    "                  df = df.withColumn(\"atmpress\", df[\"atmpress\"] / 10)\n",
    "                  df = df.withColumn(\"date\", \n",
    "                   concat(substring(col(\"date\"), 1, 4), \n",
    "                          lit(\"-\"), \n",
    "                          substring(col(\"date\"), 5, 2), \n",
    "                          lit(\"-\"), \n",
    "                          substring(col(\"date\"), 7, 2)))\n",
    "                  df = df.withColumn(\"time\", lpad(col(\"time\"), 4, \"0\"))\n",
    "                  df = df.withColumn(\"time\", \n",
    "                   concat(substring(col(\"time\"), 1, 2), \n",
    "                          lit(\":\"),\n",
    "                          substring(col(\"time\"), 3, 2)))\n",
    "                  df = df.filter(df[\"airtemp\"] != 999.9)\n",
    "                  pd_df=df.toPandas()\n",
    "                  #df.coalesce(1).write.csv(\"./dataPreprocessed/\"+dir+'/'+dir+'.csv',mode=\"overwrite\", header=True)\n",
    "                  pd_df.to_csv('./dataPreprocessed/'+filename, index=False,mode='a')"
   ]
  }
 ],
 "metadata": {
  "kernelspec": {
   "display_name": "base",
   "language": "python",
   "name": "python3"
  },
  "language_info": {
   "codemirror_mode": {
    "name": "ipython",
    "version": 3
   },
   "file_extension": ".py",
   "mimetype": "text/x-python",
   "name": "python",
   "nbconvert_exporter": "python",
   "pygments_lexer": "ipython3",
   "version": "3.11.5"
  }
 },
 "nbformat": 4,
 "nbformat_minor": 2
}
