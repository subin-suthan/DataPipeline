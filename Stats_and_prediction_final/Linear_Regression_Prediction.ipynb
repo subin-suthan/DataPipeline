{
 "cells": [
  {
   "cell_type": "code",
   "execution_count": 0,
   "metadata": {
    "application/vnd.databricks.v1+cell": {
     "cellMetadata": {
      "byteLimit": 2048000,
      "rowLimit": 10000
     },
     "inputWidgets": {},
     "nuid": "db78b74d-65ef-433a-860d-495f7cb0dde7",
     "showTitle": false,
     "title": ""
    }
   },
   "outputs": [],
   "source": [
    "import numpy as np\n",
    "import matplotlib.pyplot as plt\n",
    "import pandas as pd\n",
    "import calendar\n",
    "from pyspark.sql.types import *\n",
    "from pyspark.ml.feature import VectorAssembler\n",
    "from pyspark.ml.regression import LinearRegression\n",
    "from pyspark.ml.evaluation import RegressionEvaluator\n",
    "from pyspark.ml.feature import PolynomialExpansion\n",
    "from pyspark.ml.pipeline import Pipeline\n",
    "from pyspark.sql.functions import col, month, avg\n",
    "from pyspark.sql import Row"
   ]
  },
  {
   "cell_type": "code",
   "execution_count": 0,
   "metadata": {
    "application/vnd.databricks.v1+cell": {
     "cellMetadata": {
      "byteLimit": 2048000,
      "rowLimit": 10000
     },
     "inputWidgets": {},
     "nuid": "04647a7e-b809-4d62-bdbd-f977e4fb5c0c",
     "showTitle": false,
     "title": ""
    }
   },
   "outputs": [],
   "source": [
    "\n",
    "\n",
    "# Define the schema for the DataFrame\n",
    "schema = StructType([\n",
    "    StructField(\"month\", IntegerType()),\n",
    "    StructField(\"avg_ele\", DoubleType()),\n",
    "    StructField(\"avg_winddir\", DoubleType()),\n",
    "    StructField(\"avg_sky\", DoubleType()),\n",
    "    StructField(\"avg_visdist\", DoubleType()),\n",
    "    StructField(\"avg_airtemp\", DoubleType()),\n",
    "    StructField(\"avg_dewpointtemp\", DoubleType()),\n",
    "    StructField(\"avg_atmpress\", DoubleType()),\n",
    "    StructField(\"Year\", IntegerType())\n",
    "])\n",
    "\n",
    "# Read the CSV file with the specified schema\n",
    "year_month_df = spark.read.format(\"csv\") \\\n",
    "    .option(\"header\", \"true\") \\\n",
    "    .schema(schema) \\\n",
    "    .load(\"dbfs:/FileStore/Shannon_all_year/merged_year.csv\")\n",
    "\n",
    "\n"
   ]
  },
  {
   "cell_type": "code",
   "execution_count": 0,
   "metadata": {
    "application/vnd.databricks.v1+cell": {
     "cellMetadata": {
      "byteLimit": 2048000,
      "rowLimit": 10000
     },
     "inputWidgets": {},
     "nuid": "14676725-add2-4750-887b-3cf87b439c56",
     "showTitle": false,
     "title": ""
    }
   },
   "outputs": [
    {
     "output_type": "stream",
     "name": "stdout",
     "output_type": "stream",
     "text": [
      "+-----+-------+------------------+------------------+------------------+------------------+------------------+------------------+----+\n|month|avg_ele|       avg_winddir|           avg_sky|       avg_visdist|       avg_airtemp|  avg_dewpointtemp|      avg_atmpress|Year|\n+-----+-------+------------------+------------------+------------------+------------------+------------------+------------------+----+\n|    1|   20.0|207.60547156227503| 10587.07199424046| 18360.76241900648|  7.31360691144708| 5.272714182865368| 5267.080057595452|1976|\n|    2|   20.0| 215.1534090909091| 6033.500811688312| 19491.39366883117| 7.358035714285722| 5.042694805194806| 5177.837987013024|1976|\n|    3|   20.0|232.57503607503608| 8002.277056277056|20170.344877344876| 9.264285714285704| 6.344660894660886| 5220.431240981297|1976|\n|    4|   20.0|238.64269829503337|13875.328391401035|18756.706449221645| 8.877094143810227| 4.727131208302449| 5252.800222387012|1976|\n|    5|   20.0|214.27138849929875| 16518.35624123422| 18152.73422159888|13.736886395511911| 8.766339410939691| 5365.446984572293|1976|\n|    6|   20.0|240.19956300072832| 6112.671522214129| 22951.71012381646| 13.50335032774946| 9.065258557902403| 5332.512600145724|1976|\n|    7|   20.0|236.30640668523677|12995.063370473536|20997.350974930363| 16.81371866295264|12.286490250696374|5427.8100278552165|1976|\n|    8|   20.0|288.65875785066294| 5981.752965806001|21459.314724354503| 16.59497557571529|13.096092114445218| 5418.139078855618|1976|\n|    9|   20.0|302.70188133140374|13662.465991316933| 20812.51519536903|13.268740955137485|11.038133140376274|   5425.4154124458|1976|\n|   10|   20.0|216.68351800554015| 6394.833102493075| 18785.45429362881|11.922506925207752| 9.228393351800555|5470.9367728532525|1976|\n|   11|   20.0|  332.296886314265|17051.966690803765|17188.050687907315| 7.470238957277335| 5.929254163649531| 5399.948225923304|1976|\n|   12|   20.0|290.46320953048354| 10854.51506657323|15621.371408549405| 5.544358794674154| 5.096706377014719| 5398.267484232719|1976|\n|    1|   20.0| 241.8262386601535| 9471.074668527564|  13621.2135380321| 4.788485694347526| 3.818771807397069| 5374.236287508791|1977|\n|    2|   20.0|250.96252755326967| 8932.414401175607|15080.160176340923| 6.479500367376937| 4.107714915503313| 5413.682806759802|1977|\n|    3|   20.0|345.61527480371166| 14302.46680942184| 18387.14989293362| 5.876516773733046| 2.567808708065667| 5268.023911491859|1977|\n|    4|   20.0|288.02343159486014|19324.835978835978|19699.696900982617|  9.88269085411942| 6.024867724867726| 5125.821088435421|1977|\n|    5|   20.0| 317.4222853087296|18836.291696238462|23157.341376863023|10.917388218594748| 5.522995031937547| 5261.890631653707|1977|\n|    6|   20.0|342.43792840822545| 6245.774562071591|19866.412795125667| 13.82223914699162|10.478750952018284|  5109.49664889571|1977|\n|    7|   20.0|283.44224924012155|16678.484802431612| 23531.76139817629|16.934042553191485| 12.09255319148936| 4956.263297872376|1977|\n|    8|   20.0|297.02696629213483| 9283.287640449438|23392.431460674157|17.055805243445707|  13.3960299625468| 5014.265018726641|1977|\n+-----+-------+------------------+------------------+------------------+------------------+------------------+------------------+----+\nonly showing top 20 rows\n\n"
     ]
    }
   ],
   "source": [
    "year_month_df.show()"
   ]
  },
  {
   "cell_type": "code",
   "execution_count": 0,
   "metadata": {
    "application/vnd.databricks.v1+cell": {
     "cellMetadata": {
      "byteLimit": 2048000,
      "rowLimit": 10000
     },
     "inputWidgets": {},
     "nuid": "1e5abe8d-5bbe-4b4e-bee2-ee90921d85b2",
     "showTitle": false,
     "title": ""
    }
   },
   "outputs": [
    {
     "output_type": "stream",
     "name": "stdout",
     "output_type": "stream",
     "text": [
      "Root Mean Squared Error (RMSE): 3.632771099237942\nCoefficients: [0.01163421150311734,0.3443110158329165]\nIntercept: -14.833510864911998\nR-squared (R2) Score: -0.004775757409528847\n"
     ]
    }
   ],
   "source": [
    "\n",
    "\n",
    "# Prepare the Data\n",
    "assembler = VectorAssembler(inputCols=[\"Year\", \"month\"], outputCol=\"features\")\n",
    "df = assembler.transform(year_month_df)\n",
    "\n",
    "# Split the data into training and testing sets (80% training, 20% testing)\n",
    "train_data, test_data = df.randomSplit([0.8, 0.2], seed=123)\n",
    "\n",
    "# Define the Linear Regression Model\n",
    "lre = LinearRegression(featuresCol=\"features\", labelCol=\"avg_airtemp\")\n",
    "\n",
    "# Train the Model\n",
    "lre_model = lre.fit(train_data)\n",
    "\n",
    "#  Evaluate the Model\n",
    "predictions_lre = lre_model.transform(test_data)\n",
    "\n",
    "# Calculate evaluation metrics\n",
    "evaluator = RegressionEvaluator(labelCol=\"avg_airtemp\", predictionCol=\"prediction\", metricName=\"rmse\")\n",
    "rmse = evaluator.evaluate(predictions_lre)\n",
    "\n",
    "# Print the RMSE\n",
    "print(\"Root Mean Squared Error (RMSE):\", rmse)\n",
    "\n",
    "# Optionally, we can also print the coefficients and intercept of the model\n",
    "print(\"Coefficients:\", lre_model.coefficients)\n",
    "print(\"Intercept:\", lre_model.intercept)\n",
    "\n",
    "# Calculate evaluation metrics\n",
    "evaluator = RegressionEvaluator(labelCol=\"avg_airtemp\", predictionCol=\"prediction\", metricName=\"r2\")\n",
    "r2 = evaluator.evaluate(predictions_lre)\n",
    "\n",
    "# Print the R-squared value\n",
    "print(\"R-squared (R2) Score:\", r2)"
   ]
  },
  {
   "cell_type": "code",
   "execution_count": 0,
   "metadata": {
    "application/vnd.databricks.v1+cell": {
     "cellMetadata": {
      "byteLimit": 2048000,
      "rowLimit": 10000
     },
     "inputWidgets": {},
     "nuid": "b855b7bf-1506-465f-90b2-fd1187760c17",
     "showTitle": false,
     "title": ""
    }
   },
   "outputs": [
    {
     "output_type": "stream",
     "name": "stdout",
     "output_type": "stream",
     "text": [
      "Root Mean Squared Error (RMSE): 1.8492451394607388\nCoefficients: [4.542624864176402,-0.00112910476346337,8.630537113779177,-0.0021882357808659806,-0.30082914453281084]\nIntercept: -4569.488552621854\nR-squared (R2) Score: 0.7463385581251749\n"
     ]
    }
   ],
   "source": [
    "\n",
    "\n",
    "# Prepare the Data\n",
    "assembler = VectorAssembler(inputCols=[\"Year\", \"month\"], outputCol=\"features\")\n",
    "df = assembler.transform(year_month_df)\n",
    "\n",
    "# Split the data into training and testing sets (80% training, 20% testing)\n",
    "train_data, test_data = df.randomSplit([0.6, 0.4], seed=123)\n",
    "\n",
    "# Define Polynomial Expansion\n",
    "poly_expansion = PolynomialExpansion(inputCol=\"features\", outputCol=\"poly_features\", degree=2)\n",
    "\n",
    "# Define the Linear Regression Model\n",
    "lr = LinearRegression(featuresCol=\"poly_features\", labelCol=\"avg_airtemp\")\n",
    "\n",
    "#  Create a Pipeline\n",
    "pipeline = Pipeline(stages=[poly_expansion, lr])\n",
    "\n",
    "# Train the Model\n",
    "lr_model = pipeline.fit(train_data)\n",
    "\n",
    "# Evaluate the Model\n",
    "predictions = lr_model.transform(test_data)\n",
    "\n",
    "# Calculate evaluation metrics\n",
    "evaluator = RegressionEvaluator(labelCol=\"avg_airtemp\", predictionCol=\"prediction\", metricName=\"rmse\")\n",
    "rmse = evaluator.evaluate(predictions)\n",
    "\n",
    "# Print the RMSE\n",
    "print(\"Root Mean Squared Error (RMSE):\", rmse)\n",
    "\n",
    "# Optionally, we can also print the coefficients and intercept of the model\n",
    "print(\"Coefficients:\", lr_model.stages[-1].coefficients)\n",
    "print(\"Intercept:\", lr_model.stages[-1].intercept)\n",
    "\n",
    "# Calculate evaluation metrics\n",
    "evaluator = RegressionEvaluator(labelCol=\"avg_airtemp\", predictionCol=\"prediction\", metricName=\"r2\")\n",
    "r2 = evaluator.evaluate(predictions)\n",
    "\n",
    "# Print the R-squared value\n",
    "print(\"R-squared (R2) Score:\", r2)\n"
   ]
  },
  {
   "cell_type": "code",
   "execution_count": 0,
   "metadata": {
    "application/vnd.databricks.v1+cell": {
     "cellMetadata": {
      "byteLimit": 2048000,
      "rowLimit": 10000
     },
     "inputWidgets": {},
     "nuid": "32eb702b-9331-4de0-b03d-ad4d2a7d79d4",
     "showTitle": false,
     "title": ""
    }
   },
   "outputs": [
    {
     "output_type": "display_data",
     "data": {
      "text/html": [
       "<style scoped>\n",
       "  .table-result-container {\n",
       "    max-height: 300px;\n",
       "    overflow: auto;\n",
       "  }\n",
       "  table, th, td {\n",
       "    border: 1px solid black;\n",
       "    border-collapse: collapse;\n",
       "  }\n",
       "  th, td {\n",
       "    padding: 5px;\n",
       "  }\n",
       "  th {\n",
       "    text-align: left;\n",
       "  }\n",
       "</style><div class='table-result-container'><table class='table-result'><thead style='background-color: white'><tr><th>Year</th><th>month</th><th>prediction</th></tr></thead><tbody><tr><td>2024</td><td>1</td><td>3.221415730240551</td></tr><tr><td>2024</td><td>2</td><td>6.520476189947658</td></tr><tr><td>2024</td><td>3</td><td>9.217878360590475</td></tr></tbody></table></div>"
      ]
     },
     "metadata": {
      "application/vnd.databricks.v1+output": {
       "addedWidgets": {},
       "aggData": [],
       "aggError": "",
       "aggOverflow": false,
       "aggSchema": [],
       "aggSeriesLimitReached": false,
       "aggType": "",
       "arguments": {},
       "columnCustomDisplayInfos": {},
       "data": [
        [
         2024,
         1,
         3.221415730240551
        ],
        [
         2024,
         2,
         6.520476189947658
        ],
        [
         2024,
         3,
         9.217878360590475
        ]
       ],
       "datasetInfos": [],
       "dbfsResultPath": null,
       "isJsonSchema": true,
       "metadata": {},
       "overflow": false,
       "plotOptions": {
        "customPlotOptions": {},
        "displayType": "table",
        "pivotAggregation": null,
        "pivotColumns": null,
        "xColumns": null,
        "yColumns": null
       },
       "removedWidgets": [],
       "schema": [
        {
         "metadata": "{}",
         "name": "Year",
         "type": "\"long\""
        },
        {
         "metadata": "{}",
         "name": "month",
         "type": "\"long\""
        },
        {
         "metadata": "{\"ml_attr\":{}}",
         "name": "prediction",
         "type": "\"double\""
        }
       ],
       "type": "table"
      }
     },
     "output_type": "display_data"
    }
   ],
   "source": [
    "from pyspark.sql import Row\n",
    "\n",
    "# Create a list of Row objects, each representing a month in 2024\n",
    "months_2024 = [\n",
    "    Row(Year=2024, month=1),\n",
    "    Row(Year=2024, month=2),\n",
    "    Row(Year=2024, month=3)\n",
    "]\n",
    "\n",
    "# Create a DataFrame from the list of Row objects\n",
    "prediction_data = spark.createDataFrame(months_2024)\n",
    "\n",
    "# Transform the prediction data using the assembler\n",
    "prediction_data = assembler.transform(prediction_data)\n",
    "\n",
    "# Transform the prediction data using the polynomial expansion and linear regression stages\n",
    "prediction_result = lr_model.transform(prediction_data)\n",
    "\n",
    "# Show the prediction result\n",
    "prediction_result.select(\"Year\", \"month\", \"prediction\").display()\n"
   ]
  },
  {
   "cell_type": "code",
   "execution_count": 0,
   "metadata": {
    "application/vnd.databricks.v1+cell": {
     "cellMetadata": {
      "byteLimit": 2048000,
      "rowLimit": 10000
     },
     "inputWidgets": {},
     "nuid": "30b742e9-f18a-46c3-95c3-eefcc035f6d2",
     "showTitle": false,
     "title": ""
    }
   },
   "outputs": [
    {
     "output_type": "display_data",
     "data": {
      "text/html": [
       "<style scoped>\n",
       "  .table-result-container {\n",
       "    max-height: 300px;\n",
       "    overflow: auto;\n",
       "  }\n",
       "  table, th, td {\n",
       "    border: 1px solid black;\n",
       "    border-collapse: collapse;\n",
       "  }\n",
       "  th, td {\n",
       "    padding: 5px;\n",
       "  }\n",
       "  th {\n",
       "    text-align: left;\n",
       "  }\n",
       "</style><div class='table-result-container'><table class='table-result'><thead style='background-color: white'><tr><th>month</th><th>avg_airtemp</th><th>avg_visdist</th><th>avg_winddir</th><th>avg_sky</th><th>avg_atmpress</th></tr></thead><tbody><tr><td>1</td><td>5.166651705565528</td><td>12960.145421903053</td><td>262.1584380610413</td><td>23949.94658886894</td><td>7007.867594255113</td></tr><tr><td>2</td><td>8.218768046198273</td><td>11711.609720885466</td><td>213.52454282964388</td><td>10962.844562078923</td><td>6996.389509143572</td></tr><tr><td>3</td><td>8.353887113951</td><td>12455.732161874334</td><td>204.4989350372737</td><td>12321.160276890309</td><td>7001.362406815917</td></tr><tr><td>4</td><td>10.440322580645168</td><td>13043.381231671554</td><td>203.83724340175954</td><td>7220.491202346041</td><td>7004.520087976533</td></tr></tbody></table></div>"
      ]
     },
     "metadata": {
      "application/vnd.databricks.v1+output": {
       "addedWidgets": {},
       "aggData": [],
       "aggError": "",
       "aggOverflow": false,
       "aggSchema": [],
       "aggSeriesLimitReached": false,
       "aggType": "",
       "arguments": {},
       "columnCustomDisplayInfos": {},
       "data": [
        [
         1,
         5.166651705565528,
         12960.145421903053,
         262.1584380610413,
         23949.94658886894,
         7007.867594255113
        ],
        [
         2,
         8.218768046198273,
         11711.609720885466,
         213.52454282964388,
         10962.844562078923,
         6996.389509143572
        ],
        [
         3,
         8.353887113951,
         12455.732161874334,
         204.4989350372737,
         12321.160276890309,
         7001.362406815917
        ],
        [
         4,
         10.440322580645168,
         13043.381231671554,
         203.83724340175954,
         7220.491202346041,
         7004.520087976533
        ]
       ],
       "datasetInfos": [],
       "dbfsResultPath": null,
       "isJsonSchema": true,
       "metadata": {},
       "overflow": false,
       "plotOptions": {
        "customPlotOptions": {},
        "displayType": "table",
        "pivotAggregation": null,
        "pivotColumns": null,
        "xColumns": null,
        "yColumns": null
       },
       "removedWidgets": [],
       "schema": [
        {
         "metadata": "{}",
         "name": "month",
         "type": "\"integer\""
        },
        {
         "metadata": "{}",
         "name": "avg_airtemp",
         "type": "\"double\""
        },
        {
         "metadata": "{}",
         "name": "avg_visdist",
         "type": "\"double\""
        },
        {
         "metadata": "{}",
         "name": "avg_winddir",
         "type": "\"double\""
        },
        {
         "metadata": "{}",
         "name": "avg_sky",
         "type": "\"double\""
        },
        {
         "metadata": "{}",
         "name": "avg_atmpress",
         "type": "\"double\""
        }
       ],
       "type": "table"
      }
     },
     "output_type": "display_data"
    }
   ],
   "source": [
    "\n",
    "\n",
    "unseen_df=spark.read.option(\"header\", \"true\").csv(\"dbfs:/FileStore/Shannon_all_year/2024.csv\")\n",
    "\n",
    "# Average the airtemp, visdist, winddir, sky, atmpress over each month of the unseen_df DataFrame\n",
    "average_df = unseen_df.groupBy(month(\"date\").alias(\"month\")).agg(\n",
    "    avg(col(\"airtemp\")).alias(\"avg_airtemp\"),\n",
    "    avg(col(\"visdist\")).alias(\"avg_visdist\"),\n",
    "    avg(col(\"winddir\")).alias(\"avg_winddir\"),\n",
    "    avg(col(\"sky\")).alias(\"avg_sky\"),\n",
    "    avg(col(\"atmpress\")).alias(\"avg_atmpress\")\n",
    ")\n",
    "\n",
    "\n",
    "\n",
    "ordered_df = average_df.orderBy(\"month\")\n",
    "ordered_df.display()\n"
   ]
  },
  {
   "cell_type": "markdown",
   "metadata": {
    "application/vnd.databricks.v1+cell": {
     "cellMetadata": {},
     "inputWidgets": {},
     "nuid": "84b9d7ef-2376-409b-af85-a052756e1e63",
     "showTitle": false,
     "title": ""
    }
   },
   "source": [
    "Predicting the avg_temp till 2060"
   ]
  },
  {
   "cell_type": "code",
   "execution_count": 0,
   "metadata": {
    "application/vnd.databricks.v1+cell": {
     "cellMetadata": {
      "byteLimit": 2048000,
      "rowLimit": 10000
     },
     "inputWidgets": {},
     "nuid": "61171fcb-d177-447a-aec1-dbb5dac7b5a2",
     "showTitle": false,
     "title": ""
    }
   },
   "outputs": [
    {
     "output_type": "display_data",
     "data": {
      "text/html": [
       "<style scoped>\n",
       "  .table-result-container {\n",
       "    max-height: 300px;\n",
       "    overflow: auto;\n",
       "  }\n",
       "  table, th, td {\n",
       "    border: 1px solid black;\n",
       "    border-collapse: collapse;\n",
       "  }\n",
       "  th, td {\n",
       "    padding: 5px;\n",
       "  }\n",
       "  th {\n",
       "    text-align: left;\n",
       "  }\n",
       "</style><div class='table-result-container'><table class='table-result'><thead style='background-color: white'><tr><th>Year</th><th>month</th><th>prediction</th></tr></thead><tbody><tr><td>2024</td><td>1</td><td>3.221415730240551</td></tr><tr><td>2024</td><td>2</td><td>6.520476189947658</td></tr><tr><td>2024</td><td>3</td><td>9.217878360590475</td></tr><tr><td>2024</td><td>4</td><td>11.313622242167185</td></tr><tr><td>2024</td><td>5</td><td>12.807707834678695</td></tr><tr><td>2024</td><td>6</td><td>13.700135138124097</td></tr><tr><td>2024</td><td>7</td><td>13.9909041525043</td></tr><tr><td>2024</td><td>8</td><td>13.680014877817484</td></tr><tr><td>2024</td><td>9</td><td>12.76746731406729</td></tr><tr><td>2024</td><td>10</td><td>11.253261461250077</td></tr><tr><td>2024</td><td>11</td><td>9.137397319366755</td></tr><tr><td>2024</td><td>12</td><td>6.4198748884191446</td></tr><tr><td>2025</td><td>1</td><td>3.190107171371892</td></tr><tr><td>2025</td><td>2</td><td>6.486979395299386</td></tr><tr><td>2025</td><td>3</td><td>9.182193330160771</td></tr><tr><td>2025</td><td>4</td><td>11.275748975956049</td></tr><tr><td>2025</td><td>5</td><td>12.767646332687036</td></tr><tr><td>2025</td><td>6</td><td>13.657885400351915</td></tr><tr><td>2025</td><td>7</td><td>13.946466178950686</td></tr><tr><td>2025</td><td>8</td><td>13.633388668483349</td></tr><tr><td>2025</td><td>9</td><td>12.718652868951722</td></tr><tr><td>2025</td><td>10</td><td>11.202258780353986</td></tr><tr><td>2025</td><td>11</td><td>9.084206402690143</td></tr><tr><td>2025</td><td>12</td><td>6.3644957359611</td></tr><tr><td>2026</td><td>1</td><td>3.1565404029770434</td></tr><tr><td>2026</td><td>2</td><td>6.451224391123105</td></tr><tr><td>2026</td><td>3</td><td>9.144250090203968</td></tr><tr><td>2026</td><td>4</td><td>11.235617500218723</td></tr><tr><td>2026</td><td>5</td><td>12.725326621168279</td></tr><tr><td>2026</td><td>6</td><td>13.613377453051726</td></tr><tr><td>2026</td><td>7</td><td>13.899769995869974</td></tr><tr><td>2026</td><td>8</td><td>13.584504249622114</td></tr><tr><td>2026</td><td>9</td><td>12.667580214309965</td></tr><tr><td>2026</td><td>10</td><td>11.148997889930797</td></tr><tr><td>2026</td><td>11</td><td>9.02875727648643</td></tr><tr><td>2026</td><td>12</td><td>6.3068583739768656</td></tr><tr><td>2027</td><td>1</td><td>3.120715425057824</td></tr><tr><td>2027</td><td>2</td><td>6.413211177422454</td></tr><tr><td>2027</td><td>3</td><td>9.104048640722795</td></tr><tr><td>2027</td><td>4</td><td>11.193227814956117</td></tr><tr><td>2027</td><td>5</td><td>12.68074870012606</td></tr><tr><td>2027</td><td>6</td><td>13.566611296228075</td></tr><tr><td>2027</td><td>7</td><td>13.8508156032658</td></tr><tr><td>2027</td><td>8</td><td>13.533361621236509</td></tr><tr><td>2027</td><td>9</td><td>12.614249350143837</td></tr><tr><td>2027</td><td>10</td><td>11.093478789983237</td></tr><tr><td>2027</td><td>11</td><td>8.971049940758348</td></tr><tr><td>2027</td><td>12</td><td>6.246962802467351</td></tr><tr><td>2028</td><td>1</td><td>3.0826322376087774</td></tr><tr><td>2028</td><td>2</td><td>6.372939754192885</td></tr><tr><td>2028</td><td>3</td><td>9.061588981711793</td></tr><tr><td>2028</td><td>4</td><td>11.148579920165503</td></tr><tr><td>2028</td><td>5</td><td>12.633912569554013</td></tr><tr><td>2028</td><td>6</td><td>13.517586929875506</td></tr><tr><td>2028</td><td>7</td><td>13.7996030011318</td></tr><tr><td>2028</td><td>8</td><td>13.479960783321985</td></tr><tr><td>2028</td><td>9</td><td>12.558660276447881</td></tr><tr><td>2028</td><td>10</td><td>11.03570148050676</td></tr><tr><td>2028</td><td>11</td><td>8.911084395501348</td></tr><tr><td>2028</td><td>12</td><td>6.184809021429828</td></tr><tr><td>2029</td><td>1</td><td>3.042290840633541</td></tr><tr><td>2029</td><td>2</td><td>6.330410121437126</td></tr><tr><td>2029</td><td>3</td><td>9.016871113174602</td></tr><tr><td>2029</td><td>4</td><td>11.10167381584688</td></tr><tr><td>2029</td><td>5</td><td>12.584818229454868</td></tr><tr><td>2029</td><td>6</td><td>13.466304353995838</td></tr><tr><td>2029</td><td>7</td><td>13.7461321894707</td></tr><tr><td>2029</td><td>8</td><td>13.424301735880363</td></tr><tr><td>2029</td><td>9</td><td>12.500812993225736</td></tr><tr><td>2029</td><td>10</td><td>10.975665961504092</td></tr><tr><td>2029</td><td>11</td><td>8.848860640716339</td></tr><tr><td>2029</td><td>12</td><td>6.1203970308642965</td></tr><tr><td>2030</td><td>1</td><td>2.999691234130296</td></tr><tr><td>2030</td><td>2</td><td>6.285622279153358</td></tr><tr><td>2030</td><td>3</td><td>8.969895035110312</td></tr><tr><td>2030</td><td>4</td><td>11.052509502002067</td></tr><tr><td>2030</td><td>5</td><td>12.533465679828623</td></tr><tr><td>2030</td><td>6</td><td>13.412763568588161</td></tr><tr><td>2030</td><td>7</td><td>13.69040316828341</td></tr><tr><td>2030</td><td>8</td><td>13.366384478911641</td></tr><tr><td>2030</td><td>9</td><td>12.440707500476492</td></tr><tr><td>2030</td><td>10</td><td>10.913372232973416</td></tr><tr><td>2030</td><td>11</td><td>8.78437867640514</td></tr><tr><td>2030</td><td>12</td><td>6.053726830772575</td></tr><tr><td>2031</td><td>1</td><td>2.9548334181008613</td></tr><tr><td>2031</td><td>2</td><td>6.238576227342492</td></tr><tr><td>2031</td><td>3</td><td>8.920660747518923</td></tr><tr><td>2031</td><td>4</td><td>11.001086978629246</td></tr><tr><td>2031</td><td>5</td><td>12.47985492067528</td></tr><tr><td>2031</td><td>6</td><td>13.356964573654295</td></tr><tr><td>2031</td><td>7</td><td>13.632415937568112</td></tr><tr><td>2031</td><td>8</td><td>13.30620901241582</td></tr><tr><td>2031</td><td>9</td><td>12.37834379819924</td></tr><tr><td>2031</td><td>10</td><td>10.84882029491564</td></tr><tr><td>2031</td><td>11</td><td>8.717638502566842</td></tr><tr><td>2031</td><td>12</td><td>5.9847984211528455</td></tr><tr><td>2032</td><td>1</td><td>2.9077173925443276</td></tr><tr><td>2032</td><td>2</td><td>6.189271966004526</td></tr><tr><td>2032</td><td>3</td><td>8.869168250400435</td></tr><tr><td>2032</td><td>4</td><td>10.947406245730235</td></tr><tr><td>2032</td><td>5</td><td>12.423985951994837</td></tr><tr><td>2032</td><td>6</td><td>13.29890736919333</td></tr><tr><td>2032</td><td>7</td><td>13.572170497325715</td></tr><tr><td>2032</td><td>8</td><td>13.2437753363929</td></tr><tr><td>2032</td><td>9</td><td>12.313721886395797</td></tr><tr><td>2032</td><td>10</td><td>10.782010147330766</td></tr><tr><td>2032</td><td>11</td><td>8.648640119201445</td></tr><tr><td>2032</td><td>12</td><td>5.913611802006926</td></tr><tr><td>2033</td><td>1</td><td>2.8583431574625138</td></tr><tr><td>2033</td><td>2</td><td>6.137709495143099</td></tr><tr><td>2033</td><td>3</td><td>8.815417543757576</td></tr><tr><td>2033</td><td>4</td><td>10.891467303305944</td></tr><tr><td>2033</td><td>5</td><td>12.365858773790023</td></tr><tr><td>2033</td><td>6</td><td>13.238591955207994</td></tr><tr><td>2033</td><td>7</td><td>13.509666847559856</td></tr><tr><td>2033</td><td>8</td><td>13.17908345084561</td></tr><tr><td>2033</td><td>9</td><td>12.246841765067074</td></tr><tr><td>2033</td><td>10</td><td>10.71294179022243</td></tr><tr><td>2033</td><td>11</td><td>8.577383526311678</td></tr><tr><td>2033</td><td>12</td><td>5.840166973335727</td></tr><tr><td>2034</td><td>1</td><td>2.8067107128526914</td></tr><tr><td>2034</td><td>2</td><td>6.083888814751845</td></tr><tr><td>2034</td><td>3</td><td>8.759408627585799</td></tr><tr><td>2034</td><td>4</td><td>10.833270151353645</td></tr><tr><td>2034</td><td>5</td><td>12.305473386056292</td></tr><tr><td>2034</td><td>6</td><td>13.17601833169283</td></tr><tr><td>2034</td><td>7</td><td>13.44490498826417</td></tr><tr><td>2034</td><td>8</td><td>13.112133355769402</td></tr><tr><td>2034</td><td>9</td><td>12.177703434210343</td></tr><tr><td>2034</td><td>10</td><td>10.641615223584267</td></tr><tr><td>2034</td><td>11</td><td>8.503868723892992</td></tr><tr><td>2034</td><td>12</td><td>5.764463935136519</td></tr><tr><td>2035</td><td>1</td><td>2.75282005871577</td></tr><tr><td>2035</td><td>2</td><td>6.027809924833491</td></tr><tr><td>2035</td><td>3</td><td>8.701141501886923</td></tr><tr><td>2035</td><td>4</td><td>10.772814789873337</td></tr><tr><td>2035</td><td>5</td><td>12.24282978879637</td></tr><tr><td>2035</td><td>6</td><td>13.111186498651477</td></tr><tr><td>2035</td><td>7</td><td>13.377884919442295</td></tr><tr><td>2035</td><td>8</td><td>13.042925051166094</td></tr><tr><td>2035</td><td>9</td><td>12.106306893826513</td></tr><tr><td>2035</td><td>10</td><td>10.568030447419005</td></tr><tr><td>2035</td><td>11</td><td>8.428095711947208</td></tr><tr><td>2035</td><td>12</td><td>5.686502687409302</td></tr><tr><td>2036</td><td>1</td><td>2.6966711950508397</td></tr><tr><td>2036</td><td>2</td><td>5.9694728253880385</td></tr><tr><td>2036</td><td>3</td><td>8.640616166660038</td></tr><tr><td>2036</td><td>4</td><td>10.71010121886593</td></tr><tr><td>2036</td><td>5</td><td>12.177927982008441</td></tr><tr><td>2036</td><td>6</td><td>13.044096456083025</td></tr><tr><td>2036</td><td>7</td><td>13.30860664109241</td></tr><tr><td>2036</td><td>8</td><td>12.971458537035687</td></tr><tr><td>2036</td><td>9</td><td>12.032652143914675</td></tr><tr><td>2036</td><td>10</td><td>10.492187461726644</td></tr><tr><td>2036</td><td>11</td><td>8.350064490473414</td></tr><tr><td>2036</td><td>12</td><td>5.606283230154986</td></tr><tr><td>2037</td><td>1</td><td>2.6382641218606295</td></tr><tr><td>2037</td><td>2</td><td>5.908877516416396</td></tr><tr><td>2037</td><td>3</td><td>8.577832621907874</td></tr><tr><td>2037</td><td>4</td><td>10.645129438333242</td></tr><tr><td>2037</td><td>5</td><td>12.110767965694322</td></tr><tr><td>2037</td><td>6</td><td>12.974748203987474</td></tr><tr><td>2037</td><td>7</td><td>13.237070153216337</td></tr><tr><td>2037</td><td>8</td><td>12.89773381337909</td></tr><tr><td>2037</td><td>9</td><td>11.956739184477556</td></tr><tr><td>2037</td><td>10</td><td>10.414086266508093</td></tr><tr><td>2037</td><td>11</td><td>8.269775059474341</td></tr><tr><td>2037</td><td>12</td><td>5.52380556337539</td></tr><tr><td>2038</td><td>1</td><td>2.5775988391415012</td></tr><tr><td>2038</td><td>2</td><td>5.846023997917655</td></tr><tr><td>2038</td><td>3</td><td>8.5127908676277</td></tr><tr><td>2038</td><td>4</td><td>10.577899448271637</td></tr><tr><td>2038</td><td>5</td><td>12.041349739852194</td></tr><tr><td>2038</td><td>6</td><td>12.903141742364824</td></tr><tr><td>2038</td><td>7</td><td>13.163275455813164</td></tr><tr><td>2038</td><td>8</td><td>12.821750880194486</td></tr><tr><td>2038</td><td>9</td><td>11.878568015511519</td></tr><tr><td>2038</td><td>10</td><td>10.333726861762443</td></tr><tr><td>2038</td><td>11</td><td>8.18722741894726</td></tr><tr><td>2038</td><td>12</td><td>5.439069687066876</td></tr><tr><td>2039</td><td>1</td><td>2.514675346898912</td></tr><tr><td>2039</td><td>2</td><td>5.7809122698936335</td></tr><tr><td>2039</td><td>3</td><td>8.445490903823156</td></tr><tr><td>2039</td><td>4</td><td>10.50841124868657</td></tr><tr><td>2039</td><td>5</td><td>11.969673304485696</td></tr><tr><td>2039</td><td>6</td><td>12.829277071217803</td></tr><tr><td>2039</td><td>7</td><td>13.08722254888471</td></tr><tr><td>2039</td><td>8</td><td>12.74350973748551</td></tr><tr><td>2039</td><td>9</td><td>11.79813863702202</td></tr><tr><td>2039</td><td>10</td><td>10.251109247491513</td></tr><tr><td>2039</td><td>11</td><td>8.102421568895807</td></tr><tr><td>2039</td><td>12</td><td>5.352075601234901</td></tr><tr><td>2040</td><td>1</td><td>2.4494936451274043</td></tr><tr><td>2040</td><td>2</td><td>5.713542332340694</td></tr><tr><td>2040</td><td>3</td><td>8.375932730489694</td></tr><tr><td>2040</td><td>4</td><td>10.436664839571677</td></tr><tr><td>2040</td><td>5</td><td>11.895738659590279</td></tr><tr><td>2040</td><td>6</td><td>12.753154190541863</td></tr><tr><td>2040</td><td>7</td><td>13.00891143242734</td></tr><tr><td>2040</td><td>8</td><td>12.663010385247617</td></tr><tr><td>2040</td><td>9</td><td>11.715451049003605</td></tr><tr><td>2040</td><td>10</td><td>10.166233423691665</td></tr><tr><td>2040</td><td>11</td><td>8.015357509315436</td></tr><tr><td>2040</td><td>12</td><td>5.262823305873098</td></tr><tr><td>2041</td><td>1</td><td>2.382053733827888</td></tr><tr><td>2041</td><td>2</td><td>5.643914185260655</td></tr><tr><td>2041</td><td>3</td><td>8.304116347629133</td></tr><tr><td>2041</td><td>4</td><td>10.362660220930593</td></tr><tr><td>2041</td><td>5</td><td>11.819545805167763</td></tr><tr><td>2041</td><td>6</td><td>12.674773100337916</td></tr><tr><td>2041</td><td>7</td><td>12.928342106443779</td></tr><tr><td>2041</td><td>8</td><td>12.580252823482624</td></tr><tr><td>2041</td><td>9</td><td>11.63050525145718</td></tr><tr><td>2041</td><td>10</td><td>10.079099390364718</td></tr><tr><td>2041</td><td>11</td><td>7.926035240207966</td></tr><tr><td>2041</td><td>12</td><td>5.171312800985106</td></tr><tr><td>2042</td><td>1</td><td>2.312355613003092</td></tr><tr><td>2042</td><td>2</td><td>5.572027828655337</td></tr><tr><td>2042</td><td>3</td><td>8.230041755242382</td></tr><tr><td>2042</td><td>4</td><td>10.28639739276241</td></tr><tr><td>2042</td><td>5</td><td>11.741094741219058</td></tr><tr><td>2042</td><td>6</td><td>12.594133800608688</td></tr><tr><td>2042</td><td>7</td><td>12.845514570933119</td></tr><tr><td>2042</td><td>8</td><td>12.495237052191442</td></tr><tr><td>2042</td><td>9</td><td>11.543301244385475</td></tr><tr><td>2042</td><td>10</td><td>9.98970714751249</td></tr><tr><td>2042</td><td>11</td><td>7.834454761573397</td></tr><tr><td>2042</td><td>12</td><td>5.077544086570015</td></tr><tr><td>2043</td><td>1</td><td>2.2403992826493777</td></tr><tr><td>2043</td><td>2</td><td>5.4978832625211</td></tr><tr><td>2043</td><td>3</td><td>8.153708953326714</td></tr><tr><td>2043</td><td>4</td><td>10.207876355067128</td></tr><tr><td>2043</td><td>5</td><td>11.660385467742344</td></tr><tr><td>2043</td><td>6</td><td>12.511236291351452</td></tr><tr><td>2043</td><td>7</td><td>12.76042882589445</td></tr><tr><td>2043</td><td>8</td><td>12.40796307137225</td></tr><tr><td>2043</td><td>9</td><td>11.453839027784852</td></tr><tr><td>2043</td><td>10</td><td>9.898056695131345</td></tr><tr><td>2043</td><td>11</td><td>7.740616073411729</td></tr><tr><td>2043</td><td>12</td><td>4.981517162627824</td></tr><tr><td>2044</td><td>1</td><td>2.1661847427703833</td></tr><tr><td>2044</td><td>2</td><td>5.421480486860673</td></tr><tr><td>2044</td><td>3</td><td>8.075117941885765</td></tr><tr><td>2044</td><td>4</td><td>10.127097107844747</td></tr><tr><td>2044</td><td>5</td><td>11.57741798474035</td></tr><tr><td>2044</td><td>6</td><td>12.426080572568026</td></tr><tr><td>2044</td><td>7</td><td>12.673084871330502</td></tr><tr><td>2044</td><td>8</td><td>12.31843088102687</td></tr><tr><td>2044</td><td>9</td><td>11.362118601658949</td></tr><tr><td>2044</td><td>10</td><td>9.80414803322401</td></tr><tr><td>2044</td><td>11</td><td>7.644519175723872</td></tr><tr><td>2044</td><td>12</td><td>4.883232029158535</td></tr><tr><td>2045</td><td>1</td><td>2.089711993366109</td></tr><tr><td>2045</td><td>2</td><td>5.342819501674967</td></tr><tr><td>2045</td><td>3</td><td>7.9942687209195356</td></tr><tr><td>2045</td><td>4</td><td>10.044059651097996</td></tr><tr><td>2045</td><td>5</td><td>11.492192292212167</td></tr><tr><td>2045</td><td>6</td><td>12.33866664425841</td></tr><tr><td>2045</td><td>7</td><td>12.583482707240364</td></tr><tr><td>2045</td><td>8</td><td>12.22664048115621</td></tr><tr><td>2045</td><td>9</td><td>11.268139966007766</td></tr><tr><td>2045</td><td>10</td><td>9.707981161791395</td></tr><tr><td>2045</td><td>11</td><td>7.546164068510734</td></tr><tr><td>2045</td><td>12</td><td>4.7826886861648745</td></tr><tr><td>2046</td><td>1</td><td>2.0109810344320067</td></tr><tr><td>2046</td><td>2</td><td>5.261900306961252</td></tr><tr><td>2046</td><td>3</td><td>7.911161290424388</td></tr><tr><td>2046</td><td>4</td><td>9.958763984821417</td></tr><tr><td>2046</td><td>5</td><td>11.404708390155065</td></tr><tr><td>2046</td><td>6</td><td>12.248994506420786</td></tr><tr><td>2046</td><td>7</td><td>12.491622333621308</td></tr><tr><td>2046</td><td>8</td><td>12.132591871756631</td></tr><tr><td>2046</td><td>9</td><td>11.171903120826755</td></tr><tr><td>2046</td><td>10</td><td>9.609556080829861</td></tr><tr><td>2046</td><td>11</td><td>7.445550751768678</td></tr><tr><td>2046</td><td>12</td><td>4.679887133641387</td></tr><tr><td>2047</td><td>1</td><td>1.929991865971715</td></tr><tr><td>2047</td><td>2</td><td>5.178722902719528</td></tr><tr><td>2047</td><td>3</td><td>7.825795650402142</td></tr><tr><td>2047</td><td>4</td><td>9.871210109018648</td></tr><tr><td>2047</td><td>5</td><td>11.314966278570864</td></tr><tr><td>2047</td><td>6</td><td>12.157064159056063</td></tr><tr><td>2047</td><td>7</td><td>12.397503750476062</td></tr><tr><td>2047</td><td>8</td><td>12.036285052829953</td></tr><tr><td>2047</td><td>9</td><td>11.073408066119555</td></tr><tr><td>2047</td><td>10</td><td>9.508872790342139</td></tr><tr><td>2047</td><td>11</td><td>7.3426792254995235</td></tr><tr><td>2047</td><td>12</td><td>4.574827371591709</td></tr><tr><td>2048</td><td>1</td><td>1.8467444879852337</td></tr><tr><td>2048</td><td>2</td><td>5.093287288951615</td></tr><tr><td>2048</td><td>3</td><td>7.738171800853706</td></tr><tr><td>2048</td><td>4</td><td>9.78139802368878</td></tr><tr><td>2048</td><td>5</td><td>11.222965957460474</td></tr><tr><td>2048</td><td>6</td><td>12.06287560216515</td></tr><tr><td>2048</td><td>7</td><td>12.301126957803717</td></tr><tr><td>2048</td><td>8</td><td>11.937720024377086</td></tr><tr><td>2048</td><td>9</td><td>10.972654801885255</td></tr><tr><td>2048</td><td>10</td><td>9.405931290327317</td></tr><tr><td>2048</td><td>11</td><td>7.237549489704179</td></tr><tr><td>2048</td><td>12</td><td>4.467509400014933</td></tr><tr><td>2049</td><td>1</td><td>1.7612389004707438</td></tr><tr><td>2049</td><td>2</td><td>5.005593465656602</td></tr><tr><td>2049</td><td>3</td><td>7.6482897417781714</td></tr><tr><td>2049</td><td>4</td><td>9.689327728832723</td></tr><tr><td>2049</td><td>5</td><td>11.128707426822984</td></tr><tr><td>2049</td><td>6</td><td>11.966428835746228</td></tr><tr><td>2049</td><td>7</td><td>12.202491955604273</td></tr><tr><td>2049</td><td>8</td><td>11.83689678639712</td></tr><tr><td>2049</td><td>9</td><td>10.869643328124766</td></tr><tr><td>2049</td><td>10</td><td>9.300731580785396</td></tr><tr><td>2049</td><td>11</td><td>7.130161544380826</td></tr><tr><td>2049</td><td>12</td><td>4.357933218911967</td></tr><tr><td>2050</td><td>1</td><td>1.6734751034300643</td></tr><tr><td>2050</td><td>2</td><td>4.9156414328354</td></tr><tr><td>2050</td><td>3</td><td>7.556149473175537</td></tr><tr><td>2050</td><td>4</td><td>9.594999224448657</td></tr><tr><td>2050</td><td>5</td><td>11.032190686658396</td></tr><tr><td>2050</td><td>6</td><td>11.867723859801117</td></tr><tr><td>2050</td><td>7</td><td>12.10159874387864</td></tr><tr><td>2050</td><td>8</td><td>11.733815338890054</td></tr><tr><td>2050</td><td>9</td><td>10.764373644837178</td></tr><tr><td>2050</td><td>10</td><td>9.193273661716375</td></tr><tr><td>2050</td><td>11</td><td>7.020515389531283</td></tr><tr><td>2050</td><td>12</td><td>4.246098828280992</td></tr><tr><td>2051</td><td>1</td><td>1.5834530968613763</td></tr><tr><td>2051</td><td>2</td><td>4.82343119048619</td></tr><tr><td>2051</td><td>3</td><td>7.461750995044895</td></tr><tr><td>2051</td><td>4</td><td>9.498412510538401</td></tr><tr><td>2051</td><td>5</td><td>10.933415736966708</td></tr><tr><td>2051</td><td>6</td><td>11.766760674328907</td></tr><tr><td>2051</td><td>7</td><td>11.998447322624997</td></tr><tr><td>2051</td><td>8</td><td>11.628475681855889</td></tr><tr><td>2051</td><td>9</td><td>10.656845752021582</td></tr><tr><td>2051</td><td>10</td><td>9.083557533121166</td></tr><tr><td>2051</td><td>11</td><td>6.9086110251546415</td></tr><tr><td>2051</td><td>12</td><td>4.132006228123828</td></tr><tr><td>2052</td><td>1</td><td>1.4911728807683176</td></tr><tr><td>2052</td><td>2</td><td>4.728962738611699</td></tr><tr><td>2052</td><td>3</td><td>7.365094307389882</td></tr><tr><td>2052</td><td>4</td><td>9.399567587101956</td></tr><tr><td>2052</td><td>5</td><td>10.83238257774974</td></tr><tr><td>2052</td><td>6</td><td>11.663539279330507</td></tr><tr><td>2052</td><td>7</td><td>11.893037691846985</td></tr><tr><td>2052</td><td>8</td><td>11.520877815296444</td></tr><tr><td>2052</td><td>9</td><td>10.547059649681614</td></tr><tr><td>2052</td><td>10</td><td>8.971583194999766</td></tr><tr><td>2052</td><td>11</td><td>6.79444845125272</td></tr><tr><td>2052</td><td>12</td><td>4.015655418440474</td></tr><tr><td>2053</td><td>1</td><td>1.3966344551463408</td></tr><tr><td>2053</td><td>2</td><td>4.63223607720829</td></tr><tr><td>2053</td><td>3</td><td>7.26617941020595</td></tr><tr><td>2053</td><td>4</td><td>9.298464454137502</td></tr><tr><td>2053</td><td>5</td><td>10.729091209004764</td></tr><tr><td>2053</td><td>6</td><td>11.558059674804099</td></tr><tr><td>2053</td><td>7</td><td>11.785369851539144</td></tr><tr><td>2053</td><td>8</td><td>11.411021739208081</td></tr><tr><td>2053</td><td>9</td><td>10.43501533781182</td></tr><tr><td>2053</td><td>10</td><td>8.857350647349449</td></tr><tr><td>2053</td><td>11</td><td>6.67802766782188</td></tr><tr><td>2053</td><td>12</td><td>3.897046399228202</td></tr><tr><td>2054</td><td>1</td><td>1.2998378199972649</td></tr><tr><td>2054</td><td>2</td><td>4.533251206279601</td></tr><tr><td>2054</td><td>3</td><td>7.165006303495829</td></tr><tr><td>2054</td><td>4</td><td>9.195103111645949</td></tr><tr><td>2054</td><td>5</td><td>10.623541630732689</td></tr><tr><td>2054</td><td>6</td><td>11.450321860751501</td></tr><tr><td>2054</td><td>7</td><td>11.675443801705114</td></tr><tr><td>2054</td><td>8</td><td>11.298907453593529</td></tr><tr><td>2054</td><td>9</td><td>10.320712816416744</td></tr><tr><td>2054</td><td>10</td><td>8.740859890172942</td></tr><tr><td>2054</td><td>11</td><td>6.55934867486485</td></tr><tr><td>2054</td><td>12</td><td>3.77617917049065</td></tr><tr><td>2055</td><td>1</td><td>1.2007829753219994</td></tr><tr><td>2055</td><td>2</td><td>4.432008125822904</td></tr><tr><td>2055</td><td>3</td><td>7.061574987258609</td></tr><tr><td>2055</td><td>4</td><td>9.089483559628206</td></tr><tr><td>2055</td><td>5</td><td>10.515733842933514</td></tr><tr><td>2055</td><td>6</td><td>11.340325837171804</td></tr><tr><td>2055</td><td>7</td><td>11.563259542344895</td></tr><tr><td>2055</td><td>8</td><td>11.184534958451877</td></tr><tr><td>2055</td><td>9</td><td>10.20415208549457</td></tr><tr><td>2055</td><td>10</td><td>8.622110923469336</td></tr><tr><td>2055</td><td>11</td><td>6.438411472379812</td></tr><tr><td>2055</td><td>12</td><td>3.6530537322250893</td></tr><tr><td>2056</td><td>1</td><td>1.0994699211196348</td></tr><tr><td>2056</td><td>2</td><td>4.328506835839107</td></tr><tr><td>2056</td><td>3</td><td>6.95588546149429</td></tr><tr><td>2056</td><td>4</td><td>8.981605798082455</td></tr><tr><td>2056</td><td>5</td><td>10.40566784560724</td></tr><tr><td>2056</td><td>6</td><td>11.228071604064098</td></tr><tr><td>2056</td><td>7</td><td>11.448817073456667</td></tr><tr><td>2056</td><td>8</td><td>11.067904253783126</td></tr><tr><td>2056</td><td>9</td><td>10.085333145044387</td></tr><tr><td>2056</td><td>10</td><td>8.50110374723954</td></tr><tr><td>2056</td><td>11</td><td>6.315216060368584</td></tr><tr><td>2056</td><td>12</td><td>3.527670084433339</td></tr><tr><td>2057</td><td>1</td><td>0.9958986573892616</td></tr><tr><td>2057</td><td>2</td><td>4.2227473363282115</td></tr><tr><td>2057</td><td>3</td><td>6.847937726202872</td></tr><tr><td>2057</td><td>4</td><td>8.871469827010515</td></tr><tr><td>2057</td><td>5</td><td>10.293343638753868</td></tr><tr><td>2057</td><td>6</td><td>11.113559161430203</td></tr><tr><td>2057</td><td>7</td><td>11.33211639504134</td></tr><tr><td>2057</td><td>8</td><td>10.949015339587277</td></tr><tr><td>2057</td><td>9</td><td>9.964255995068015</td></tr><tr><td>2057</td><td>10</td><td>8.377838361481736</td></tr><tr><td>2057</td><td>11</td><td>6.1897624388302575</td></tr><tr><td>2057</td><td>12</td><td>3.40002822711358</td></tr><tr><td>2058</td><td>1</td><td>0.8900691841354273</td></tr><tr><td>2058</td><td>2</td><td>4.114729627293855</td></tr><tr><td>2058</td><td>3</td><td>6.737731781386174</td></tr><tr><td>2058</td><td>4</td><td>8.759075646413294</td></tr><tr><td>2058</td><td>5</td><td>10.178761222376124</td></tr><tr><td>2058</td><td>6</td><td>10.996788509271937</td></tr><tr><td>2058</td><td>7</td><td>11.21315750710255</td></tr><tr><td>2058</td><td>8</td><td>10.827868215867056</td></tr><tr><td>2058</td><td>9</td><td>9.840920635566363</td></tr><tr><td>2058</td><td>10</td><td>8.25231476619956</td></tr><tr><td>2058</td><td>11</td><td>6.06205060776756</td></tr><tr><td>2058</td><td>12</td><td>3.2701281602703602</td></tr><tr><td>2059</td><td>1</td><td>0.781981501350856</td></tr><tr><td>2059</td><td>2</td><td>4.004453708728761</td></tr><tr><td>2059</td><td>3</td><td>6.625267627040557</td></tr><tr><td>2059</td><td>4</td><td>8.644423256287155</td></tr><tr><td>2059</td><td>5</td><td>10.061920596468553</td></tr><tr><td>2059</td><td>6</td><td>10.877759647583844</td></tr><tr><td>2059</td><td>7</td><td>11.091940409633025</td></tr><tr><td>2059</td><td>8</td><td>10.704462882617008</td></tr><tr><td>2059</td><td>9</td><td>9.715327066535792</td></tr><tr><td>2059</td><td>10</td><td>8.124532961387558</td></tr><tr><td>2059</td><td>11</td><td>5.932080567175035</td></tr><tr><td>2059</td><td>12</td><td>3.137969883896403</td></tr><tr><td>2060</td><td>1</td><td>0.6716356090410045</td></tr><tr><td>2060</td><td>2</td><td>3.8919195806374773</td></tr><tr><td>2060</td><td>3</td><td>6.510545263168751</td></tr><tr><td>2060</td><td>4</td><td>8.527512656633917</td></tr><tr><td>2060</td><td>5</td><td>9.942821761034793</td></tr><tr><td>2060</td><td>6</td><td>10.756472576368651</td></tr><tr><td>2060</td><td>7</td><td>10.96846510263731</td></tr><tr><td>2060</td><td>8</td><td>10.578799339839861</td></tr><tr><td>2060</td><td>9</td><td>9.587475287979032</td></tr><tr><td>2060</td><td>10</td><td>7.994492947050276</td></tr><tr><td>2060</td><td>11</td><td>5.79985231705632</td></tr><tr><td>2060</td><td>12</td><td>3.003553397997166</td></tr></tbody></table></div>"
      ]
     },
     "metadata": {
      "application/vnd.databricks.v1+output": {
       "addedWidgets": {},
       "aggData": [],
       "aggError": "",
       "aggOverflow": false,
       "aggSchema": [],
       "aggSeriesLimitReached": false,
       "aggType": "",
       "arguments": {},
       "columnCustomDisplayInfos": {},
       "data": [
        [
         2024,
         1,
         3.221415730240551
        ],
        [
         2024,
         2,
         6.520476189947658
        ],
        [
         2024,
         3,
         9.217878360590475
        ],
        [
         2024,
         4,
         11.313622242167185
        ],
        [
         2024,
         5,
         12.807707834678695
        ],
        [
         2024,
         6,
         13.700135138124097
        ],
        [
         2024,
         7,
         13.9909041525043
        ],
        [
         2024,
         8,
         13.680014877817484
        ],
        [
         2024,
         9,
         12.76746731406729
        ],
        [
         2024,
         10,
         11.253261461250077
        ],
        [
         2024,
         11,
         9.137397319366755
        ],
        [
         2024,
         12,
         6.4198748884191446
        ],
        [
         2025,
         1,
         3.190107171371892
        ],
        [
         2025,
         2,
         6.486979395299386
        ],
        [
         2025,
         3,
         9.182193330160771
        ],
        [
         2025,
         4,
         11.275748975956049
        ],
        [
         2025,
         5,
         12.767646332687036
        ],
        [
         2025,
         6,
         13.657885400351915
        ],
        [
         2025,
         7,
         13.946466178950686
        ],
        [
         2025,
         8,
         13.633388668483349
        ],
        [
         2025,
         9,
         12.718652868951722
        ],
        [
         2025,
         10,
         11.202258780353986
        ],
        [
         2025,
         11,
         9.084206402690143
        ],
        [
         2025,
         12,
         6.3644957359611
        ],
        [
         2026,
         1,
         3.1565404029770434
        ],
        [
         2026,
         2,
         6.451224391123105
        ],
        [
         2026,
         3,
         9.144250090203968
        ],
        [
         2026,
         4,
         11.235617500218723
        ],
        [
         2026,
         5,
         12.725326621168279
        ],
        [
         2026,
         6,
         13.613377453051726
        ],
        [
         2026,
         7,
         13.899769995869974
        ],
        [
         2026,
         8,
         13.584504249622114
        ],
        [
         2026,
         9,
         12.667580214309965
        ],
        [
         2026,
         10,
         11.148997889930797
        ],
        [
         2026,
         11,
         9.02875727648643
        ],
        [
         2026,
         12,
         6.3068583739768656
        ],
        [
         2027,
         1,
         3.120715425057824
        ],
        [
         2027,
         2,
         6.413211177422454
        ],
        [
         2027,
         3,
         9.104048640722795
        ],
        [
         2027,
         4,
         11.193227814956117
        ],
        [
         2027,
         5,
         12.68074870012606
        ],
        [
         2027,
         6,
         13.566611296228075
        ],
        [
         2027,
         7,
         13.8508156032658
        ],
        [
         2027,
         8,
         13.533361621236509
        ],
        [
         2027,
         9,
         12.614249350143837
        ],
        [
         2027,
         10,
         11.093478789983237
        ],
        [
         2027,
         11,
         8.971049940758348
        ],
        [
         2027,
         12,
         6.246962802467351
        ],
        [
         2028,
         1,
         3.0826322376087774
        ],
        [
         2028,
         2,
         6.372939754192885
        ],
        [
         2028,
         3,
         9.061588981711793
        ],
        [
         2028,
         4,
         11.148579920165503
        ],
        [
         2028,
         5,
         12.633912569554013
        ],
        [
         2028,
         6,
         13.517586929875506
        ],
        [
         2028,
         7,
         13.7996030011318
        ],
        [
         2028,
         8,
         13.479960783321985
        ],
        [
         2028,
         9,
         12.558660276447881
        ],
        [
         2028,
         10,
         11.03570148050676
        ],
        [
         2028,
         11,
         8.911084395501348
        ],
        [
         2028,
         12,
         6.184809021429828
        ],
        [
         2029,
         1,
         3.042290840633541
        ],
        [
         2029,
         2,
         6.330410121437126
        ],
        [
         2029,
         3,
         9.016871113174602
        ],
        [
         2029,
         4,
         11.10167381584688
        ],
        [
         2029,
         5,
         12.584818229454868
        ],
        [
         2029,
         6,
         13.466304353995838
        ],
        [
         2029,
         7,
         13.7461321894707
        ],
        [
         2029,
         8,
         13.424301735880363
        ],
        [
         2029,
         9,
         12.500812993225736
        ],
        [
         2029,
         10,
         10.975665961504092
        ],
        [
         2029,
         11,
         8.848860640716339
        ],
        [
         2029,
         12,
         6.1203970308642965
        ],
        [
         2030,
         1,
         2.999691234130296
        ],
        [
         2030,
         2,
         6.285622279153358
        ],
        [
         2030,
         3,
         8.969895035110312
        ],
        [
         2030,
         4,
         11.052509502002067
        ],
        [
         2030,
         5,
         12.533465679828623
        ],
        [
         2030,
         6,
         13.412763568588161
        ],
        [
         2030,
         7,
         13.69040316828341
        ],
        [
         2030,
         8,
         13.366384478911641
        ],
        [
         2030,
         9,
         12.440707500476492
        ],
        [
         2030,
         10,
         10.913372232973416
        ],
        [
         2030,
         11,
         8.78437867640514
        ],
        [
         2030,
         12,
         6.053726830772575
        ],
        [
         2031,
         1,
         2.9548334181008613
        ],
        [
         2031,
         2,
         6.238576227342492
        ],
        [
         2031,
         3,
         8.920660747518923
        ],
        [
         2031,
         4,
         11.001086978629246
        ],
        [
         2031,
         5,
         12.47985492067528
        ],
        [
         2031,
         6,
         13.356964573654295
        ],
        [
         2031,
         7,
         13.632415937568112
        ],
        [
         2031,
         8,
         13.30620901241582
        ],
        [
         2031,
         9,
         12.37834379819924
        ],
        [
         2031,
         10,
         10.84882029491564
        ],
        [
         2031,
         11,
         8.717638502566842
        ],
        [
         2031,
         12,
         5.9847984211528455
        ],
        [
         2032,
         1,
         2.9077173925443276
        ],
        [
         2032,
         2,
         6.189271966004526
        ],
        [
         2032,
         3,
         8.869168250400435
        ],
        [
         2032,
         4,
         10.947406245730235
        ],
        [
         2032,
         5,
         12.423985951994837
        ],
        [
         2032,
         6,
         13.29890736919333
        ],
        [
         2032,
         7,
         13.572170497325715
        ],
        [
         2032,
         8,
         13.2437753363929
        ],
        [
         2032,
         9,
         12.313721886395797
        ],
        [
         2032,
         10,
         10.782010147330766
        ],
        [
         2032,
         11,
         8.648640119201445
        ],
        [
         2032,
         12,
         5.913611802006926
        ],
        [
         2033,
         1,
         2.8583431574625138
        ],
        [
         2033,
         2,
         6.137709495143099
        ],
        [
         2033,
         3,
         8.815417543757576
        ],
        [
         2033,
         4,
         10.891467303305944
        ],
        [
         2033,
         5,
         12.365858773790023
        ],
        [
         2033,
         6,
         13.238591955207994
        ],
        [
         2033,
         7,
         13.509666847559856
        ],
        [
         2033,
         8,
         13.17908345084561
        ],
        [
         2033,
         9,
         12.246841765067074
        ],
        [
         2033,
         10,
         10.71294179022243
        ],
        [
         2033,
         11,
         8.577383526311678
        ],
        [
         2033,
         12,
         5.840166973335727
        ],
        [
         2034,
         1,
         2.8067107128526914
        ],
        [
         2034,
         2,
         6.083888814751845
        ],
        [
         2034,
         3,
         8.759408627585799
        ],
        [
         2034,
         4,
         10.833270151353645
        ],
        [
         2034,
         5,
         12.305473386056292
        ],
        [
         2034,
         6,
         13.17601833169283
        ],
        [
         2034,
         7,
         13.44490498826417
        ],
        [
         2034,
         8,
         13.112133355769402
        ],
        [
         2034,
         9,
         12.177703434210343
        ],
        [
         2034,
         10,
         10.641615223584267
        ],
        [
         2034,
         11,
         8.503868723892992
        ],
        [
         2034,
         12,
         5.764463935136519
        ],
        [
         2035,
         1,
         2.75282005871577
        ],
        [
         2035,
         2,
         6.027809924833491
        ],
        [
         2035,
         3,
         8.701141501886923
        ],
        [
         2035,
         4,
         10.772814789873337
        ],
        [
         2035,
         5,
         12.24282978879637
        ],
        [
         2035,
         6,
         13.111186498651477
        ],
        [
         2035,
         7,
         13.377884919442295
        ],
        [
         2035,
         8,
         13.042925051166094
        ],
        [
         2035,
         9,
         12.106306893826513
        ],
        [
         2035,
         10,
         10.568030447419005
        ],
        [
         2035,
         11,
         8.428095711947208
        ],
        [
         2035,
         12,
         5.686502687409302
        ],
        [
         2036,
         1,
         2.6966711950508397
        ],
        [
         2036,
         2,
         5.9694728253880385
        ],
        [
         2036,
         3,
         8.640616166660038
        ],
        [
         2036,
         4,
         10.71010121886593
        ],
        [
         2036,
         5,
         12.177927982008441
        ],
        [
         2036,
         6,
         13.044096456083025
        ],
        [
         2036,
         7,
         13.30860664109241
        ],
        [
         2036,
         8,
         12.971458537035687
        ],
        [
         2036,
         9,
         12.032652143914675
        ],
        [
         2036,
         10,
         10.492187461726644
        ],
        [
         2036,
         11,
         8.350064490473414
        ],
        [
         2036,
         12,
         5.606283230154986
        ],
        [
         2037,
         1,
         2.6382641218606295
        ],
        [
         2037,
         2,
         5.908877516416396
        ],
        [
         2037,
         3,
         8.577832621907874
        ],
        [
         2037,
         4,
         10.645129438333242
        ],
        [
         2037,
         5,
         12.110767965694322
        ],
        [
         2037,
         6,
         12.974748203987474
        ],
        [
         2037,
         7,
         13.237070153216337
        ],
        [
         2037,
         8,
         12.89773381337909
        ],
        [
         2037,
         9,
         11.956739184477556
        ],
        [
         2037,
         10,
         10.414086266508093
        ],
        [
         2037,
         11,
         8.269775059474341
        ],
        [
         2037,
         12,
         5.52380556337539
        ],
        [
         2038,
         1,
         2.5775988391415012
        ],
        [
         2038,
         2,
         5.846023997917655
        ],
        [
         2038,
         3,
         8.5127908676277
        ],
        [
         2038,
         4,
         10.577899448271637
        ],
        [
         2038,
         5,
         12.041349739852194
        ],
        [
         2038,
         6,
         12.903141742364824
        ],
        [
         2038,
         7,
         13.163275455813164
        ],
        [
         2038,
         8,
         12.821750880194486
        ],
        [
         2038,
         9,
         11.878568015511519
        ],
        [
         2038,
         10,
         10.333726861762443
        ],
        [
         2038,
         11,
         8.18722741894726
        ],
        [
         2038,
         12,
         5.439069687066876
        ],
        [
         2039,
         1,
         2.514675346898912
        ],
        [
         2039,
         2,
         5.7809122698936335
        ],
        [
         2039,
         3,
         8.445490903823156
        ],
        [
         2039,
         4,
         10.50841124868657
        ],
        [
         2039,
         5,
         11.969673304485696
        ],
        [
         2039,
         6,
         12.829277071217803
        ],
        [
         2039,
         7,
         13.08722254888471
        ],
        [
         2039,
         8,
         12.74350973748551
        ],
        [
         2039,
         9,
         11.79813863702202
        ],
        [
         2039,
         10,
         10.251109247491513
        ],
        [
         2039,
         11,
         8.102421568895807
        ],
        [
         2039,
         12,
         5.352075601234901
        ],
        [
         2040,
         1,
         2.4494936451274043
        ],
        [
         2040,
         2,
         5.713542332340694
        ],
        [
         2040,
         3,
         8.375932730489694
        ],
        [
         2040,
         4,
         10.436664839571677
        ],
        [
         2040,
         5,
         11.895738659590279
        ],
        [
         2040,
         6,
         12.753154190541863
        ],
        [
         2040,
         7,
         13.00891143242734
        ],
        [
         2040,
         8,
         12.663010385247617
        ],
        [
         2040,
         9,
         11.715451049003605
        ],
        [
         2040,
         10,
         10.166233423691665
        ],
        [
         2040,
         11,
         8.015357509315436
        ],
        [
         2040,
         12,
         5.262823305873098
        ],
        [
         2041,
         1,
         2.382053733827888
        ],
        [
         2041,
         2,
         5.643914185260655
        ],
        [
         2041,
         3,
         8.304116347629133
        ],
        [
         2041,
         4,
         10.362660220930593
        ],
        [
         2041,
         5,
         11.819545805167763
        ],
        [
         2041,
         6,
         12.674773100337916
        ],
        [
         2041,
         7,
         12.928342106443779
        ],
        [
         2041,
         8,
         12.580252823482624
        ],
        [
         2041,
         9,
         11.63050525145718
        ],
        [
         2041,
         10,
         10.079099390364718
        ],
        [
         2041,
         11,
         7.926035240207966
        ],
        [
         2041,
         12,
         5.171312800985106
        ],
        [
         2042,
         1,
         2.312355613003092
        ],
        [
         2042,
         2,
         5.572027828655337
        ],
        [
         2042,
         3,
         8.230041755242382
        ],
        [
         2042,
         4,
         10.28639739276241
        ],
        [
         2042,
         5,
         11.741094741219058
        ],
        [
         2042,
         6,
         12.594133800608688
        ],
        [
         2042,
         7,
         12.845514570933119
        ],
        [
         2042,
         8,
         12.495237052191442
        ],
        [
         2042,
         9,
         11.543301244385475
        ],
        [
         2042,
         10,
         9.98970714751249
        ],
        [
         2042,
         11,
         7.834454761573397
        ],
        [
         2042,
         12,
         5.077544086570015
        ],
        [
         2043,
         1,
         2.2403992826493777
        ],
        [
         2043,
         2,
         5.4978832625211
        ],
        [
         2043,
         3,
         8.153708953326714
        ],
        [
         2043,
         4,
         10.207876355067128
        ],
        [
         2043,
         5,
         11.660385467742344
        ],
        [
         2043,
         6,
         12.511236291351452
        ],
        [
         2043,
         7,
         12.76042882589445
        ],
        [
         2043,
         8,
         12.40796307137225
        ],
        [
         2043,
         9,
         11.453839027784852
        ],
        [
         2043,
         10,
         9.898056695131345
        ],
        [
         2043,
         11,
         7.740616073411729
        ],
        [
         2043,
         12,
         4.981517162627824
        ],
        [
         2044,
         1,
         2.1661847427703833
        ],
        [
         2044,
         2,
         5.421480486860673
        ],
        [
         2044,
         3,
         8.075117941885765
        ],
        [
         2044,
         4,
         10.127097107844747
        ],
        [
         2044,
         5,
         11.57741798474035
        ],
        [
         2044,
         6,
         12.426080572568026
        ],
        [
         2044,
         7,
         12.673084871330502
        ],
        [
         2044,
         8,
         12.31843088102687
        ],
        [
         2044,
         9,
         11.362118601658949
        ],
        [
         2044,
         10,
         9.80414803322401
        ],
        [
         2044,
         11,
         7.644519175723872
        ],
        [
         2044,
         12,
         4.883232029158535
        ],
        [
         2045,
         1,
         2.089711993366109
        ],
        [
         2045,
         2,
         5.342819501674967
        ],
        [
         2045,
         3,
         7.9942687209195356
        ],
        [
         2045,
         4,
         10.044059651097996
        ],
        [
         2045,
         5,
         11.492192292212167
        ],
        [
         2045,
         6,
         12.33866664425841
        ],
        [
         2045,
         7,
         12.583482707240364
        ],
        [
         2045,
         8,
         12.22664048115621
        ],
        [
         2045,
         9,
         11.268139966007766
        ],
        [
         2045,
         10,
         9.707981161791395
        ],
        [
         2045,
         11,
         7.546164068510734
        ],
        [
         2045,
         12,
         4.7826886861648745
        ],
        [
         2046,
         1,
         2.0109810344320067
        ],
        [
         2046,
         2,
         5.261900306961252
        ],
        [
         2046,
         3,
         7.911161290424388
        ],
        [
         2046,
         4,
         9.958763984821417
        ],
        [
         2046,
         5,
         11.404708390155065
        ],
        [
         2046,
         6,
         12.248994506420786
        ],
        [
         2046,
         7,
         12.491622333621308
        ],
        [
         2046,
         8,
         12.132591871756631
        ],
        [
         2046,
         9,
         11.171903120826755
        ],
        [
         2046,
         10,
         9.609556080829861
        ],
        [
         2046,
         11,
         7.445550751768678
        ],
        [
         2046,
         12,
         4.679887133641387
        ],
        [
         2047,
         1,
         1.929991865971715
        ],
        [
         2047,
         2,
         5.178722902719528
        ],
        [
         2047,
         3,
         7.825795650402142
        ],
        [
         2047,
         4,
         9.871210109018648
        ],
        [
         2047,
         5,
         11.314966278570864
        ],
        [
         2047,
         6,
         12.157064159056063
        ],
        [
         2047,
         7,
         12.397503750476062
        ],
        [
         2047,
         8,
         12.036285052829953
        ],
        [
         2047,
         9,
         11.073408066119555
        ],
        [
         2047,
         10,
         9.508872790342139
        ],
        [
         2047,
         11,
         7.3426792254995235
        ],
        [
         2047,
         12,
         4.574827371591709
        ],
        [
         2048,
         1,
         1.8467444879852337
        ],
        [
         2048,
         2,
         5.093287288951615
        ],
        [
         2048,
         3,
         7.738171800853706
        ],
        [
         2048,
         4,
         9.78139802368878
        ],
        [
         2048,
         5,
         11.222965957460474
        ],
        [
         2048,
         6,
         12.06287560216515
        ],
        [
         2048,
         7,
         12.301126957803717
        ],
        [
         2048,
         8,
         11.937720024377086
        ],
        [
         2048,
         9,
         10.972654801885255
        ],
        [
         2048,
         10,
         9.405931290327317
        ],
        [
         2048,
         11,
         7.237549489704179
        ],
        [
         2048,
         12,
         4.467509400014933
        ],
        [
         2049,
         1,
         1.7612389004707438
        ],
        [
         2049,
         2,
         5.005593465656602
        ],
        [
         2049,
         3,
         7.6482897417781714
        ],
        [
         2049,
         4,
         9.689327728832723
        ],
        [
         2049,
         5,
         11.128707426822984
        ],
        [
         2049,
         6,
         11.966428835746228
        ],
        [
         2049,
         7,
         12.202491955604273
        ],
        [
         2049,
         8,
         11.83689678639712
        ],
        [
         2049,
         9,
         10.869643328124766
        ],
        [
         2049,
         10,
         9.300731580785396
        ],
        [
         2049,
         11,
         7.130161544380826
        ],
        [
         2049,
         12,
         4.357933218911967
        ],
        [
         2050,
         1,
         1.6734751034300643
        ],
        [
         2050,
         2,
         4.9156414328354
        ],
        [
         2050,
         3,
         7.556149473175537
        ],
        [
         2050,
         4,
         9.594999224448657
        ],
        [
         2050,
         5,
         11.032190686658396
        ],
        [
         2050,
         6,
         11.867723859801117
        ],
        [
         2050,
         7,
         12.10159874387864
        ],
        [
         2050,
         8,
         11.733815338890054
        ],
        [
         2050,
         9,
         10.764373644837178
        ],
        [
         2050,
         10,
         9.193273661716375
        ],
        [
         2050,
         11,
         7.020515389531283
        ],
        [
         2050,
         12,
         4.246098828280992
        ],
        [
         2051,
         1,
         1.5834530968613763
        ],
        [
         2051,
         2,
         4.82343119048619
        ],
        [
         2051,
         3,
         7.461750995044895
        ],
        [
         2051,
         4,
         9.498412510538401
        ],
        [
         2051,
         5,
         10.933415736966708
        ],
        [
         2051,
         6,
         11.766760674328907
        ],
        [
         2051,
         7,
         11.998447322624997
        ],
        [
         2051,
         8,
         11.628475681855889
        ],
        [
         2051,
         9,
         10.656845752021582
        ],
        [
         2051,
         10,
         9.083557533121166
        ],
        [
         2051,
         11,
         6.9086110251546415
        ],
        [
         2051,
         12,
         4.132006228123828
        ],
        [
         2052,
         1,
         1.4911728807683176
        ],
        [
         2052,
         2,
         4.728962738611699
        ],
        [
         2052,
         3,
         7.365094307389882
        ],
        [
         2052,
         4,
         9.399567587101956
        ],
        [
         2052,
         5,
         10.83238257774974
        ],
        [
         2052,
         6,
         11.663539279330507
        ],
        [
         2052,
         7,
         11.893037691846985
        ],
        [
         2052,
         8,
         11.520877815296444
        ],
        [
         2052,
         9,
         10.547059649681614
        ],
        [
         2052,
         10,
         8.971583194999766
        ],
        [
         2052,
         11,
         6.79444845125272
        ],
        [
         2052,
         12,
         4.015655418440474
        ],
        [
         2053,
         1,
         1.3966344551463408
        ],
        [
         2053,
         2,
         4.63223607720829
        ],
        [
         2053,
         3,
         7.26617941020595
        ],
        [
         2053,
         4,
         9.298464454137502
        ],
        [
         2053,
         5,
         10.729091209004764
        ],
        [
         2053,
         6,
         11.558059674804099
        ],
        [
         2053,
         7,
         11.785369851539144
        ],
        [
         2053,
         8,
         11.411021739208081
        ],
        [
         2053,
         9,
         10.43501533781182
        ],
        [
         2053,
         10,
         8.857350647349449
        ],
        [
         2053,
         11,
         6.67802766782188
        ],
        [
         2053,
         12,
         3.897046399228202
        ],
        [
         2054,
         1,
         1.2998378199972649
        ],
        [
         2054,
         2,
         4.533251206279601
        ],
        [
         2054,
         3,
         7.165006303495829
        ],
        [
         2054,
         4,
         9.195103111645949
        ],
        [
         2054,
         5,
         10.623541630732689
        ],
        [
         2054,
         6,
         11.450321860751501
        ],
        [
         2054,
         7,
         11.675443801705114
        ],
        [
         2054,
         8,
         11.298907453593529
        ],
        [
         2054,
         9,
         10.320712816416744
        ],
        [
         2054,
         10,
         8.740859890172942
        ],
        [
         2054,
         11,
         6.55934867486485
        ],
        [
         2054,
         12,
         3.77617917049065
        ],
        [
         2055,
         1,
         1.2007829753219994
        ],
        [
         2055,
         2,
         4.432008125822904
        ],
        [
         2055,
         3,
         7.061574987258609
        ],
        [
         2055,
         4,
         9.089483559628206
        ],
        [
         2055,
         5,
         10.515733842933514
        ],
        [
         2055,
         6,
         11.340325837171804
        ],
        [
         2055,
         7,
         11.563259542344895
        ],
        [
         2055,
         8,
         11.184534958451877
        ],
        [
         2055,
         9,
         10.20415208549457
        ],
        [
         2055,
         10,
         8.622110923469336
        ],
        [
         2055,
         11,
         6.438411472379812
        ],
        [
         2055,
         12,
         3.6530537322250893
        ],
        [
         2056,
         1,
         1.0994699211196348
        ],
        [
         2056,
         2,
         4.328506835839107
        ],
        [
         2056,
         3,
         6.95588546149429
        ],
        [
         2056,
         4,
         8.981605798082455
        ],
        [
         2056,
         5,
         10.40566784560724
        ],
        [
         2056,
         6,
         11.228071604064098
        ],
        [
         2056,
         7,
         11.448817073456667
        ],
        [
         2056,
         8,
         11.067904253783126
        ],
        [
         2056,
         9,
         10.085333145044387
        ],
        [
         2056,
         10,
         8.50110374723954
        ],
        [
         2056,
         11,
         6.315216060368584
        ],
        [
         2056,
         12,
         3.527670084433339
        ],
        [
         2057,
         1,
         0.9958986573892616
        ],
        [
         2057,
         2,
         4.2227473363282115
        ],
        [
         2057,
         3,
         6.847937726202872
        ],
        [
         2057,
         4,
         8.871469827010515
        ],
        [
         2057,
         5,
         10.293343638753868
        ],
        [
         2057,
         6,
         11.113559161430203
        ],
        [
         2057,
         7,
         11.33211639504134
        ],
        [
         2057,
         8,
         10.949015339587277
        ],
        [
         2057,
         9,
         9.964255995068015
        ],
        [
         2057,
         10,
         8.377838361481736
        ],
        [
         2057,
         11,
         6.1897624388302575
        ],
        [
         2057,
         12,
         3.40002822711358
        ],
        [
         2058,
         1,
         0.8900691841354273
        ],
        [
         2058,
         2,
         4.114729627293855
        ],
        [
         2058,
         3,
         6.737731781386174
        ],
        [
         2058,
         4,
         8.759075646413294
        ],
        [
         2058,
         5,
         10.178761222376124
        ],
        [
         2058,
         6,
         10.996788509271937
        ],
        [
         2058,
         7,
         11.21315750710255
        ],
        [
         2058,
         8,
         10.827868215867056
        ],
        [
         2058,
         9,
         9.840920635566363
        ],
        [
         2058,
         10,
         8.25231476619956
        ],
        [
         2058,
         11,
         6.06205060776756
        ],
        [
         2058,
         12,
         3.2701281602703602
        ],
        [
         2059,
         1,
         0.781981501350856
        ],
        [
         2059,
         2,
         4.004453708728761
        ],
        [
         2059,
         3,
         6.625267627040557
        ],
        [
         2059,
         4,
         8.644423256287155
        ],
        [
         2059,
         5,
         10.061920596468553
        ],
        [
         2059,
         6,
         10.877759647583844
        ],
        [
         2059,
         7,
         11.091940409633025
        ],
        [
         2059,
         8,
         10.704462882617008
        ],
        [
         2059,
         9,
         9.715327066535792
        ],
        [
         2059,
         10,
         8.124532961387558
        ],
        [
         2059,
         11,
         5.932080567175035
        ],
        [
         2059,
         12,
         3.137969883896403
        ],
        [
         2060,
         1,
         0.6716356090410045
        ],
        [
         2060,
         2,
         3.8919195806374773
        ],
        [
         2060,
         3,
         6.510545263168751
        ],
        [
         2060,
         4,
         8.527512656633917
        ],
        [
         2060,
         5,
         9.942821761034793
        ],
        [
         2060,
         6,
         10.756472576368651
        ],
        [
         2060,
         7,
         10.96846510263731
        ],
        [
         2060,
         8,
         10.578799339839861
        ],
        [
         2060,
         9,
         9.587475287979032
        ],
        [
         2060,
         10,
         7.994492947050276
        ],
        [
         2060,
         11,
         5.79985231705632
        ],
        [
         2060,
         12,
         3.003553397997166
        ]
       ],
       "datasetInfos": [],
       "dbfsResultPath": null,
       "isJsonSchema": true,
       "metadata": {},
       "overflow": false,
       "plotOptions": {
        "customPlotOptions": {},
        "displayType": "table",
        "pivotAggregation": null,
        "pivotColumns": null,
        "xColumns": null,
        "yColumns": null
       },
       "removedWidgets": [],
       "schema": [
        {
         "metadata": "{}",
         "name": "Year",
         "type": "\"long\""
        },
        {
         "metadata": "{}",
         "name": "month",
         "type": "\"long\""
        },
        {
         "metadata": "{\"ml_attr\":{}}",
         "name": "prediction",
         "type": "\"double\""
        }
       ],
       "type": "table"
      }
     },
     "output_type": "display_data"
    }
   ],
   "source": [
    "\n",
    "\n",
    "# Create a list of Row objects for each month from 2024 to 2060\n",
    "months_2024_to_2061 = [Row(Year=year, month=month) for year in range(2024, 2061) for month in range(1, 13)]\n",
    "\n",
    "# Create a DataFrame from the list of Row objects\n",
    "prediction_data = spark.createDataFrame(months_2024_to_2061)\n",
    "\n",
    "# Transform the prediction data using the assembler\n",
    "prediction_data = assembler.transform(prediction_data)\n",
    "\n",
    "# Transform the prediction data using the polynomial expansion and linear regression stages\n",
    "prediction_result = lr_model.transform(prediction_data)\n",
    "\n",
    "# Show the prediction result\n",
    "prediction_result.select(\"Year\", \"month\", \"prediction\").display()\n",
    "\n",
    "# Convert selected table to a DataFrame\n",
    "prediction__future_df = prediction_result.select(\"Year\", \"month\", \"prediction\").toDF(\"Year\", \"month\", \"prediction\")\n"
   ]
  },
  {
   "cell_type": "markdown",
   "metadata": {
    "application/vnd.databricks.v1+cell": {
     "cellMetadata": {},
     "inputWidgets": {},
     "nuid": "3caa541d-63e5-467a-b572-c4b203b649e2",
     "showTitle": false,
     "title": ""
    }
   },
   "source": [
    "Plotting the Average temperature of each month for 2024"
   ]
  },
  {
   "cell_type": "code",
   "execution_count": 0,
   "metadata": {
    "application/vnd.databricks.v1+cell": {
     "cellMetadata": {
      "byteLimit": 2048000,
      "rowLimit": 10000
     },
     "inputWidgets": {},
     "nuid": "fecd198f-d3c4-4f7d-b66f-8d4b0ef1af9c",
     "showTitle": false,
     "title": ""
    }
   },
   "outputs": [
    {
     "output_type": "stream",
     "name": "stdout",
     "output_type": "stream",
     "text": [
      "    month  prediction\n0       1    3.221416\n1       2    6.520476\n2       3    9.217878\n3       4   11.313622\n4       5   12.807708\n5       6   13.700135\n6       7   13.990904\n7       8   13.680015\n8       9   12.767467\n9      10   11.253261\n10     11    9.137397\n11     12    6.419875\n"
     ]
    },
    {
     "output_type": "display_data",
     "data": {
      "image/png": "[encoded data removed]",
      "text/plain": [
       "<Figure size 640x480 with 1 Axes>"
      ]
     },
     "metadata": {},
     "output_type": "display_data"
    }
   ],
   "source": [
    "\n",
    "\n",
    "# Get the first 24 rows of prediction__future_df\n",
    "first_24_rows = prediction__future_df.limit(12)\n",
    "\n",
    "\n",
    "\n",
    "# Convert Spark DataFrame to Pandas DataFrame\n",
    "prediction_pd = first_24_rows.select('month', 'prediction').toPandas()\n",
    "print(prediction_pd)\n",
    "\n",
    "# Plot month and prediction columns\n",
    "plt.plot(prediction_pd['month'], prediction_pd['prediction'], \"*\")\n",
    "plt.xlabel('Month')\n",
    "plt.ylabel('Prediction')\n",
    "plt.title('Prediction vs Month')\n",
    "\n",
    "\n",
    "\n",
    "plt.show()"
   ]
  },
  {
   "cell_type": "markdown",
   "metadata": {
    "application/vnd.databricks.v1+cell": {
     "cellMetadata": {},
     "inputWidgets": {},
     "nuid": "f9fd96db-e457-4dc4-8faa-d179105e17de",
     "showTitle": false,
     "title": ""
    }
   },
   "source": [
    "Plotting till 2060"
   ]
  },
  {
   "cell_type": "code",
   "execution_count": 0,
   "metadata": {
    "application/vnd.databricks.v1+cell": {
     "cellMetadata": {
      "byteLimit": 2048000,
      "rowLimit": 10000
     },
     "inputWidgets": {},
     "nuid": "995760a8-c25b-466e-9599-8a6edc10d9b6",
     "showTitle": false,
     "title": ""
    }
   },
   "outputs": [
    {
     "output_type": "display_data",
     "data": {
      "text/html": [
       "<style scoped>\n",
       "  .table-result-container {\n",
       "    max-height: 300px;\n",
       "    overflow: auto;\n",
       "  }\n",
       "  table, th, td {\n",
       "    border: 1px solid black;\n",
       "    border-collapse: collapse;\n",
       "  }\n",
       "  th, td {\n",
       "    padding: 5px;\n",
       "  }\n",
       "  th {\n",
       "    text-align: left;\n",
       "  }\n",
       "</style><div class='table-result-container'><table class='table-result'><thead style='background-color: white'><tr><th>Year</th><th>Average Temperature</th></tr></thead><tbody><tr><td>2024</td><td>10.335846292431143</td></tr><tr><td>2025</td><td>10.292502436768169</td></tr><tr><td>2026</td><td>10.24690037157825</td></tr><tr><td>2027</td><td>10.199040096864033</td></tr><tr><td>2028</td><td>10.148921612620674</td></tr><tr><td>2029</td><td>10.096544918850364</td></tr><tr><td>2030</td><td>10.041910015552958</td></tr><tr><td>2031</td><td>9.9850169027283</td></tr><tr><td>2032</td><td>9.92586558037677</td></tr><tr><td>2033</td><td>9.864456048500793</td></tr><tr><td>2034</td><td>9.8007883070959</td></tr><tr><td>2035</td><td>9.734862356163982</td></tr><tr><td>2036</td><td>9.666678195704511</td></tr><tr><td>2037</td><td>9.596235825719228</td></tr><tr><td>2038</td><td>9.523535246205938</td></tr><tr><td>2039</td><td>9.448576457168352</td></tr><tr><td>2040</td><td>9.371359458601697</td></tr><tr><td>2041</td><td>9.291884250507943</td></tr><tr><td>2042</td><td>9.210150832888075</td></tr><tr><td>2043</td><td>9.126159205740047</td></tr><tr><td>2044</td><td>9.039909369066057</td></tr><tr><td>2045</td><td>8.95140132286671</td></tr><tr><td>2046</td><td>8.860635067138295</td></tr><tr><td>2047</td><td>8.767610601883158</td></tr><tr><td>2048</td><td>8.672327927101454</td></tr><tr><td>2049</td><td>8.57478704279265</td></tr><tr><td>2050</td><td>8.474987948956974</td></tr><tr><td>2051</td><td>8.372930645594048</td></tr><tr><td>2052</td><td>8.268615132705841</td></tr><tr><td>2053</td><td>8.162041410288793</td></tr><tr><td>2054</td><td>8.053209478345556</td></tr><tr><td>2055</td><td>7.942119336875218</td></tr><tr><td>2056</td><td>7.828770985877706</td></tr><tr><td>2057</td><td>7.713164425353095</td></tr><tr><td>2058</td><td>7.5952996553041885</td></tr><tr><td>2059</td><td>7.475176675725379</td></tr><tr><td>2060</td><td>7.35279548662038</td></tr></tbody></table></div>"
      ]
     },
     "metadata": {
      "application/vnd.databricks.v1+output": {
       "addedWidgets": {},
       "aggData": [],
       "aggError": "",
       "aggOverflow": false,
       "aggSchema": [],
       "aggSeriesLimitReached": false,
       "aggType": "",
       "arguments": {},
       "columnCustomDisplayInfos": {},
       "data": [
        [
         2024,
         10.335846292431143
        ],
        [
         2025,
         10.292502436768169
        ],
        [
         2026,
         10.24690037157825
        ],
        [
         2027,
         10.199040096864033
        ],
        [
         2028,
         10.148921612620674
        ],
        [
         2029,
         10.096544918850364
        ],
        [
         2030,
         10.041910015552958
        ],
        [
         2031,
         9.9850169027283
        ],
        [
         2032,
         9.92586558037677
        ],
        [
         2033,
         9.864456048500793
        ],
        [
         2034,
         9.8007883070959
        ],
        [
         2035,
         9.734862356163982
        ],
        [
         2036,
         9.666678195704511
        ],
        [
         2037,
         9.596235825719228
        ],
        [
         2038,
         9.523535246205938
        ],
        [
         2039,
         9.448576457168352
        ],
        [
         2040,
         9.371359458601697
        ],
        [
         2041,
         9.291884250507943
        ],
        [
         2042,
         9.210150832888075
        ],
        [
         2043,
         9.126159205740047
        ],
        [
         2044,
         9.039909369066057
        ],
        [
         2045,
         8.95140132286671
        ],
        [
         2046,
         8.860635067138295
        ],
        [
         2047,
         8.767610601883158
        ],
        [
         2048,
         8.672327927101454
        ],
        [
         2049,
         8.57478704279265
        ],
        [
         2050,
         8.474987948956974
        ],
        [
         2051,
         8.372930645594048
        ],
        [
         2052,
         8.268615132705841
        ],
        [
         2053,
         8.162041410288793
        ],
        [
         2054,
         8.053209478345556
        ],
        [
         2055,
         7.942119336875218
        ],
        [
         2056,
         7.828770985877706
        ],
        [
         2057,
         7.713164425353095
        ],
        [
         2058,
         7.5952996553041885
        ],
        [
         2059,
         7.475176675725379
        ],
        [
         2060,
         7.35279548662038
        ]
       ],
       "datasetInfos": [],
       "dbfsResultPath": null,
       "isJsonSchema": true,
       "metadata": {},
       "overflow": false,
       "plotOptions": {
        "customPlotOptions": {},
        "displayType": "table",
        "pivotAggregation": null,
        "pivotColumns": null,
        "xColumns": null,
        "yColumns": null
       },
       "removedWidgets": [],
       "schema": [
        {
         "metadata": "{}",
         "name": "Year",
         "type": "\"long\""
        },
        {
         "metadata": "{}",
         "name": "Average Temperature",
         "type": "\"double\""
        }
       ],
       "type": "table"
      }
     },
     "output_type": "display_data"
    }
   ],
   "source": [
    "# Group the prediction__future_df by 'Year' and calculate the average temperature for each year\n",
    "yearly_avg_temperatures = prediction__future_df.groupBy(\"Year\").avg(\"prediction\")\n",
    "\n",
    "# Rename the columns\n",
    "yearly_avg_temperatures = yearly_avg_temperatures.withColumnRenamed(\"Year\", \"Year\")\n",
    "yearly_avg_temperatures = yearly_avg_temperatures.withColumnRenamed(\"avg(prediction)\", \"Average Temperature\")\n",
    "\n",
    "# Show the yearly average temperatures\n",
    "yearly_avg_temperatures.orderBy(\"Year\").display()"
   ]
  },
  {
   "cell_type": "code",
   "execution_count": 0,
   "metadata": {
    "application/vnd.databricks.v1+cell": {
     "cellMetadata": {
      "byteLimit": 2048000,
      "rowLimit": 10000
     },
     "inputWidgets": {},
     "nuid": "9745e20c-66ab-4ec0-bbbe-2a2d4519da73",
     "showTitle": false,
     "title": ""
    }
   },
   "outputs": [
    {
     "output_type": "display_data",
     "data": {
      "image/png": "[encoded data removed]",
      "text/plain": [
       "<Figure size 640x480 with 1 Axes>"
      ]
     },
     "metadata": {},
     "output_type": "display_data"
    }
   ],
   "source": [
    "\n",
    "\n",
    "\n",
    "# Convert Spark DataFrame to Pandas DataFrame\n",
    "predictions_pd = predictions.select('Year', 'month', 'avg_airtemp', 'prediction').toPandas()\n",
    "\n",
    "# Sort the data by 'Year' and 'month' for visualization\n",
    "predictions_pd = predictions_pd.sort_values(by=['Year', 'month'])\n",
    "\n",
    "# Plot the actual data points\n",
    "plt.scatter(predictions_pd['Year'], predictions_pd['avg_airtemp'], label='Actual Data')\n",
    "\n",
    "# Plot the predicted values (regression line)\n",
    "plt.plot(predictions_pd['Year'], predictions_pd['prediction'], color='red', label='Regression Line')\n",
    "\n",
    "plt.xlabel('Year')\n",
    "plt.ylabel('Average Air Temperature')\n",
    "plt.title('Polynomial Regression')\n",
    "plt.legend()\n",
    "plt.grid(True)\n",
    "plt.show()\n"
   ]
  },
  {
   "cell_type": "markdown",
   "metadata": {
    "application/vnd.databricks.v1+cell": {
     "cellMetadata": {},
     "inputWidgets": {},
     "nuid": "79622562-b7ac-4535-a990-7ec6a16da0ef",
     "showTitle": false,
     "title": ""
    }
   },
   "source": [
    "Trying to find the average temperature with day as an additional feature"
   ]
  },
  {
   "cell_type": "markdown",
   "metadata": {
    "application/vnd.databricks.v1+cell": {
     "cellMetadata": {},
     "inputWidgets": {},
     "nuid": "1e6ffdc0-a6e4-48c9-9fea-399755546580",
     "showTitle": false,
     "title": ""
    }
   },
   "source": [
    "------------------------------------------------------------------------------------------------------------------------------------------"
   ]
  },
  {
   "cell_type": "code",
   "execution_count": 0,
   "metadata": {
    "application/vnd.databricks.v1+cell": {
     "cellMetadata": {
      "byteLimit": 2048000,
      "rowLimit": 10000
     },
     "inputWidgets": {},
     "nuid": "87a8913c-fc5b-4beb-a6b6-bb81be3348da",
     "showTitle": false,
     "title": ""
    }
   },
   "outputs": [
    {
     "output_type": "stream",
     "name": "stdout",
     "output_type": "stream",
     "text": [
      "+----+-----+---+----+------------------+------------------+------------------+------------------+------------------+------------------+\n|year|month|day| ele|           winddir|               sky|           visdist|           airtemp|      dewpointtemp|          atmpress|\n+----+-----+---+----+------------------+------------------+------------------+------------------+------------------+------------------+\n|1976|    1|  1|14.0| 212.6086956521739| 760.4347826086956| 8921.739130434782|7.3478260869565215| 5.869565217391305| 1402.513043478261|\n|1976|    1|  2|14.0| 273.2916666666667| 6412.458333333333| 9470.833333333334|               9.5| 7.416666666666667|1754.5166666666669|\n|1976|    1|  3|14.0| 270.4166666666667| 8415.416666666666|12654.166666666666|              5.75|1.7916666666666667|1024.6208333333334|\n|1976|    1|  4|14.0|             217.5|             320.0| 4416.666666666667| 8.916666666666666| 8.208333333333334|1019.4208333333332|\n|1976|    1|  5|14.0|            236.25|2543.3333333333335|10033.333333333334| 9.791666666666666| 8.166666666666666|1018.2291666666666|\n|1976|    1|  6|14.0|             228.0|            5245.6|           12844.0|              9.28|              7.32|          1379.024|\n|1976|    1|  7|14.0|            201.25|            883.75|12816.666666666666| 9.916666666666666|               7.0|         1018.0125|\n|1976|    1|  8|14.0|225.83333333333337|1534.1666666666667|           12650.0|            10.875|               8.5|1017.5791666666668|\n|1976|    1|  9|14.0|             140.0|            528.75|            8375.0| 7.833333333333333| 7.083333333333333|1021.1333333333332|\n|1976|    1| 10|14.0| 259.5833333333333|             557.5| 8329.166666666666|10.166666666666666|             9.125|1398.5166666666669|\n+----+-----+---+----+------------------+------------------+------------------+------------------+------------------+------------------+\nonly showing top 10 rows\n\n"
     ]
    }
   ],
   "source": [
    "# Define the schema for the DataFrame\n",
    "schema_day_test = StructType([\n",
    "    StructField(\"year\", IntegerType()),\n",
    "    StructField(\"month\", IntegerType()),\n",
    "    StructField(\"day\", IntegerType()),\n",
    "    StructField(\"ele\", DoubleType()),\n",
    "    StructField(\"winddir\", DoubleType()),\n",
    "    StructField(\"sky\", DoubleType()),\n",
    "    StructField(\"visdist\", DoubleType()),\n",
    "    StructField(\"airtemp\", DoubleType()),\n",
    "    StructField(\"dewpointtemp\", DoubleType()),\n",
    "    StructField(\"atmpress\", DoubleType())\n",
    "])\n",
    "\n",
    "# Read the CSV file with the specified schema\n",
    "year_month__day_df_test = spark.read.format(\"csv\") \\\n",
    "    .option(\"header\", \"true\") \\\n",
    "    .schema(schema_day_test) \\\n",
    "    .load(\"dbfs:/FileStore/Shannon_all_year/avgPerDay.csv\")\n",
    "    # Filter out data for the year 2024 and 2023\n",
    "year_month__day_df_test = year_month__day_df_test.filter((col(\"year\") != 2024)& (col(\"year\") != 2023))\n",
    "year_month__day_df_test.show(10)"
   ]
  },
  {
   "cell_type": "code",
   "execution_count": 0,
   "metadata": {
    "application/vnd.databricks.v1+cell": {
     "cellMetadata": {
      "byteLimit": 2048000,
      "rowLimit": 10000
     },
     "inputWidgets": {},
     "nuid": "69bc28b3-cb62-4269-bc33-0cc00f80df27",
     "showTitle": false,
     "title": ""
    }
   },
   "outputs": [
    {
     "output_type": "stream",
     "name": "stdout",
     "output_type": "stream",
     "text": [
      "Root Mean Squared Error (RMSE): 2.647412946379283\nCoefficients: [101.51935701500085,-0.04914355834594225,7.921215726242926e-06,330.7929389235333,-0.32753782179659624,8.113928676662474e-05,0.14007044079628633,0.00013221957541061595,-0.03412912898835112,128.31009046556014,-0.13128699114084244,3.35805482909189e-05,0.031288008991720774,-8.367555635388361e-06,-0.0020606484849527,0.15084952050223105,-7.736046660182215e-05,5.5688209902781614e-06,8.875109056509663e-05]\nIntercept: -69829.98803304993\nR-squared (R2) Score: 0.6312505986303845\n"
     ]
    }
   ],
   "source": [
    "\n",
    "\n",
    "# Prepare the Data\n",
    "assembler_day_test= VectorAssembler(inputCols=[\"year\", \"month\",\"day\"], outputCol=\"features\")\n",
    "df_day_test = assembler_day_test.transform(year_month__day_df_test)\n",
    "\n",
    "# Split the data into training and testing sets (70% training, 30% testing)\n",
    "train_data_day_test, test_data_day_test = df_day_test.randomSplit([0.9, 0.1], seed=123)\n",
    "\n",
    "# Define Polynomial Expansion\n",
    "poly_expansion_test = PolynomialExpansion(inputCol=\"features\", outputCol=\"poly_features\", degree=3)\n",
    "\n",
    "# Define the Linear Regression Model\n",
    "lr_day_test = LinearRegression(featuresCol=\"poly_features\", labelCol=\"airtemp\")\n",
    "\n",
    "#  Create a Pipeline\n",
    "pipeline_day_test = Pipeline(stages=[poly_expansion_test, lr_day_test])\n",
    "\n",
    "# Train the Model\n",
    "lr_model_day_test = pipeline_day_test.fit(train_data_day_test)\n",
    "\n",
    "# Evaluate the Model\n",
    "predictions_day_test = lr_model_day_test.transform(test_data_day_test)\n",
    "\n",
    "# Calculate evaluation metrics\n",
    "evaluator_day_test = RegressionEvaluator(labelCol=\"airtemp\", predictionCol=\"prediction\", metricName=\"rmse\")\n",
    "rmse_day_test= evaluator_day_test.evaluate(predictions_day_test)\n",
    "\n",
    "# Print the RMSE\n",
    "print(\"Root Mean Squared Error (RMSE):\", rmse_day_test)\n",
    "\n",
    "# Optionally, we can also print the coefficients and intercept of the model\n",
    "print(\"Coefficients:\", lr_model_day_test.stages[-1].coefficients)\n",
    "print(\"Intercept:\", lr_model_day_test.stages[-1].intercept)\n",
    "\n",
    "# Calculate evaluation metrics\n",
    "evaluator_day_r2_test = RegressionEvaluator(labelCol=\"airtemp\", predictionCol=\"prediction\", metricName=\"r2\")\n",
    "r2_day_test = evaluator_day_r2_test.evaluate(predictions_day_test)\n",
    "\n",
    "# Print the R-squared value\n",
    "print(\"R-squared (R2) Score:\", r2_day_test)\n"
   ]
  },
  {
   "cell_type": "code",
   "execution_count": 0,
   "metadata": {
    "application/vnd.databricks.v1+cell": {
     "cellMetadata": {
      "byteLimit": 2048000,
      "rowLimit": 10000
     },
     "inputWidgets": {},
     "nuid": "8de563ab-5999-4e7e-86ea-f42b6fd29f02",
     "showTitle": false,
     "title": ""
    }
   },
   "outputs": [],
   "source": [
    "# Function to generate Row objects for all days in a given month\n",
    "def generate_month_days(year, month):\n",
    "    num_days = calendar.monthrange(year, month)[1]\n",
    "    return [Row(year=year, month=month, day=day) for day in range(1, num_days+1)]\n",
    "\n",
    "# Create Row objects for all days in January, February, and March 2024\n",
    "january_days = generate_month_days(2024, 1)\n",
    "february_days = generate_month_days(2024, 2)\n",
    "march_days = generate_month_days(2024, 3)\n",
    "\n",
    "# Combine all days into a single list\n",
    "all_days_2024 = january_days + february_days + march_days"
   ]
  },
  {
   "cell_type": "code",
   "execution_count": 0,
   "metadata": {
    "application/vnd.databricks.v1+cell": {
     "cellMetadata": {
      "byteLimit": 2048000,
      "rowLimit": 10000
     },
     "inputWidgets": {},
     "nuid": "b594491d-8741-40ba-9f11-6393aed89fdc",
     "showTitle": false,
     "title": ""
    }
   },
   "outputs": [
    {
     "output_type": "display_data",
     "data": {
      "text/html": [
       "<style scoped>\n",
       "  .table-result-container {\n",
       "    max-height: 300px;\n",
       "    overflow: auto;\n",
       "  }\n",
       "  table, th, td {\n",
       "    border: 1px solid black;\n",
       "    border-collapse: collapse;\n",
       "  }\n",
       "  th, td {\n",
       "    padding: 5px;\n",
       "  }\n",
       "  th {\n",
       "    text-align: left;\n",
       "  }\n",
       "</style><div class='table-result-container'><table class='table-result'><thead style='background-color: white'><tr><th>month</th><th>avg(airtemp_prediction)</th></tr></thead><tbody><tr><td>1</td><td>5.399301052724402</td></tr><tr><td>2</td><td>6.7038974224149195</td></tr><tr><td>3</td><td>8.471937141422513</td></tr></tbody></table></div>"
      ]
     },
     "metadata": {
      "application/vnd.databricks.v1+output": {
       "addedWidgets": {},
       "aggData": [],
       "aggError": "",
       "aggOverflow": false,
       "aggSchema": [],
       "aggSeriesLimitReached": false,
       "aggType": "",
       "arguments": {},
       "columnCustomDisplayInfos": {},
       "data": [
        [
         1,
         5.399301052724402
        ],
        [
         2,
         6.7038974224149195
        ],
        [
         3,
         8.471937141422513
        ]
       ],
       "datasetInfos": [],
       "dbfsResultPath": null,
       "isJsonSchema": true,
       "metadata": {},
       "overflow": false,
       "plotOptions": {
        "customPlotOptions": {},
        "displayType": "table",
        "pivotAggregation": null,
        "pivotColumns": null,
        "xColumns": null,
        "yColumns": null
       },
       "removedWidgets": [],
       "schema": [
        {
         "metadata": "{}",
         "name": "month",
         "type": "\"long\""
        },
        {
         "metadata": "{}",
         "name": "avg(airtemp_prediction)",
         "type": "\"double\""
        }
       ],
       "type": "table"
      }
     },
     "output_type": "display_data"
    }
   ],
   "source": [
    "\n",
    "\n",
    "\n",
    "# Create a DataFrame from the list of Row objects\n",
    "prediction_data_day_test = spark.createDataFrame(all_days_2024)\n",
    "\n",
    "# Transform the prediction data using the assembler\n",
    "prediction_data_day_test = assembler_day_test.transform(prediction_data_day_test)\n",
    "\n",
    "# Transform the prediction data using the polynomial expansion and linear regression stages\n",
    "prediction_result_day_test = lr_model_day_test.transform(prediction_data_day_test)\n",
    "\n",
    "# Show the prediction result\n",
    "avg_perday_2024_predicted_df_test=prediction_result_day_test.select(\"year\", \"month\", \"day\", \"prediction\").toDF(\"year\", \"month\", \"day\",\"airtemp_prediction\")\n",
    "\n",
    "# Group by month and calculate the average airtemp_prediction\n",
    "monthly_avg_airtemp_predicted_day_test = avg_perday_2024_predicted_df_test.groupBy(\"month\").avg(\"airtemp_prediction\")\n",
    "\n",
    "# Order by month\n",
    "monthly_avg_airtemp_predicted_day_test = monthly_avg_airtemp_predicted_day_test.orderBy(\"month\")\n",
    "\n",
    "#Show\n",
    "monthly_avg_airtemp_predicted_day_test.display()\n"
   ]
  },
  {
   "cell_type": "code",
   "execution_count": 0,
   "metadata": {
    "application/vnd.databricks.v1+cell": {
     "cellMetadata": {
      "byteLimit": 2048000,
      "rowLimit": 10000
     },
     "inputWidgets": {},
     "nuid": "49b63a44-141d-470b-b323-d78dd0b28170",
     "showTitle": false,
     "title": ""
    }
   },
   "outputs": [
    {
     "output_type": "display_data",
     "data": {
      "image/png": "[encoded data removed]",
      "text/plain": [
       "<Figure size 640x480 with 1 Axes>"
      ]
     },
     "metadata": {},
     "output_type": "display_data"
    }
   ],
   "source": [
    "import matplotlib.pyplot as plt\n",
    "\n",
    "# Generate Row objects for all days in January, February, and March 2024\n",
    "january_days = generate_month_days(2024, 1)\n",
    "february_days = generate_month_days(2024, 2)\n",
    "march_days = generate_month_days(2024, 3)\n",
    "april_days = generate_month_days(2024, 4)\n",
    "may_days = generate_month_days(2024, 5)\n",
    "june_days = generate_month_days(2024, 6)\n",
    "july_days = generate_month_days(2024, 7)\n",
    "august_days=generate_month_days(2024, 8)\n",
    "september_days=generate_month_days(2024, 9)\n",
    "october_days=generate_month_days(2024, 10)\n",
    "november_days=generate_month_days(2024, 11)\n",
    "december_days=generate_month_days(2024, 12)\n",
    "\n",
    "\n",
    "\n",
    "# Combine all days into a single list\n",
    "all_days_2024 = january_days + february_days + march_days+april_days+may_days+june_days+july_days+august_days+september_days+october_days+november_days+december_days\n",
    "\n",
    "# Create a DataFrame from the list of Row objects\n",
    "prediction_data_day_test = spark.createDataFrame(all_days_2024)\n",
    "\n",
    "# Transform the prediction data using the assembler\n",
    "prediction_data_day_test = assembler_day_test.transform(prediction_data_day_test)\n",
    "\n",
    "# Transform the prediction data using the polynomial expansion and linear regression stages\n",
    "prediction_result_day_test = lr_model_day_test.transform(prediction_data_day_test)\n",
    "\n",
    "# Select necessary columns and rename prediction column\n",
    "avg_perday_2024_predicted_df_test = prediction_result_day_test.select(\"year\", \"month\", \"day\", \"prediction\") \\\n",
    "    .toDF(\"year\", \"month\", \"day\", \"airtemp_prediction\")\n",
    "\n",
    "# Group by month and calculate the average airtemp_prediction\n",
    "monthly_avg_airtemp_predicted_day_test = avg_perday_2024_predicted_df_test.groupBy(\"month\").avg(\"airtemp_prediction\")\n",
    "\n",
    "# Order by month\n",
    "monthly_avg_airtemp_predicted_day_test = monthly_avg_airtemp_predicted_day_test.orderBy(\"month\")\n",
    "\n",
    "# Extract the months and temperatures for plotting\n",
    "months = monthly_avg_airtemp_predicted_day_test.select(\"month\").rdd.flatMap(lambda x: x).collect()\n",
    "avg_temperatures = monthly_avg_airtemp_predicted_day_test.select(\"avg(airtemp_prediction)\").rdd.flatMap(lambda x: x).collect()\n",
    "\n",
    "# Plot the averaged temperature against the months\n",
    "plt.scatter(months, avg_temperatures)\n",
    "plt.xlabel(\"Month\")\n",
    "plt.ylabel(\"Average Predicted Temperature\")\n",
    "plt.title(\"Average Predicted Temperature vs Months in 2024\")\n",
    "plt.xticks(months)\n",
    "plt.grid(True)\n",
    "plt.show()\n"
   ]
  }
 ],
 "metadata": {
  "application/vnd.databricks.v1+notebook": {
   "dashboards": [],
   "language": "python",
   "notebookMetadata": {
    "pythonIndentUnit": 4
   },
   "notebookName": "Linear_Regression_Prediction",
   "widgets": {}
  }
 },
 "nbformat": 4,
 "nbformat_minor": 0
}
