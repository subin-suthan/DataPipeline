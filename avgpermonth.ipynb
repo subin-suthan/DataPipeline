{
 "cells": [
  {
   "cell_type": "code",
   "execution_count": 1,
   "metadata": {},
   "outputs": [],
   "source": [
    "import pyspark as sp\n",
    "from pyspark.sql import SparkSession\n",
    "from pyspark.sql.functions import col,date_format,concat,substring,lit,lpad,to_timestamp,when,mean,avg,reduce\n",
    "import  pandas as pd\n",
    "import os"
   ]
  },
  {
   "cell_type": "code",
   "execution_count": 2,
   "metadata": {},
   "outputs": [
    {
     "name": "stderr",
     "output_type": "stream",
     "text": [
      "24/04/21 20:48:55 WARN Utils: Your hostname, Subins-MacBook-Pro.local resolves to a loopback address: 127.0.0.1; using 10.65.210.91 instead (on interface en0)\n",
      "24/04/21 20:48:55 WARN Utils: Set SPARK_LOCAL_IP if you need to bind to another address\n",
      "Setting default log level to \"WARN\".\n",
      "To adjust logging level use sc.setLogLevel(newLevel). For SparkR, use setLogLevel(newLevel).\n",
      "24/04/21 20:48:55 WARN NativeCodeLoader: Unable to load native-hadoop library for your platform... using builtin-java classes where applicable\n"
     ]
    }
   ],
   "source": [
    "spark = SparkSession.builder \\\n",
    "    .appName(\"PreProcessing\") \\\n",
    "    .getOrCreate()"
   ]
  },
  {
   "cell_type": "code",
   "execution_count": 5,
   "metadata": {},
   "outputs": [],
   "source": [
    "for filename in os.listdir(\"./dataPreprocessed\"):\n",
    "    #   entry=os.path.join(\"./dataConverted\",dir)  \n",
    "    #   if os.path.isdir(entry):\n",
    "            #for filename in os.listdir(entry):\n",
    "                  df=spark.read.option(\"header\",\"true\").option(\"inferSchema\", \"true\").csv(\"./dataPreprocessed/\"+filename)\n",
    "                  df = df.withColumn(\"month\", substring(df[\"date\"], 6, 2))\n",
    "                  avg_values_month = df.groupBy('month').agg(\n",
    "    avg('ele').alias('avg_ele'),\n",
    "    avg('winddir').alias('avg_winddir'),\n",
    "    avg('sky').alias('avg_sky'),\n",
    "    avg('visdist').alias('avg_visdist'),\n",
    "    avg('airtemp').alias('avg_airtemp'),\n",
    "    avg('dewpointtemp').alias('avg_dewpointtemp'),\n",
    "    avg('atmpress').alias('avg_atmpress')\n",
    ")\n",
    "\n",
    "                  avg_values_month = avg_values_month.orderBy(\"month\")\n",
    "                  pd_df=avg_values_month.toPandas()\n",
    "                  #df.coalesce(1).write.csv(\"./dataPreprocessed/\"+dir+'/'+dir+'.csv',mode=\"overwrite\", header=True)\n",
    "                  pd_df.to_csv('./dataPreprocessed/'+filename, index=False,mode='w')\n"
   ]
  },
  {
   "cell_type": "code",
   "execution_count": 6,
   "metadata": {},
   "outputs": [],
   "source": [
    "dfs = []"
   ]
  },
  {
   "cell_type": "code",
   "execution_count": 7,
   "metadata": {},
   "outputs": [
    {
     "ename": "TypeError",
     "evalue": "reduce() missing 1 required positional argument: 'merge'",
     "output_type": "error",
     "traceback": [
      "\u001b[0;31m---------------------------------------------------------------------------\u001b[0m",
      "\u001b[0;31mTypeError\u001b[0m                                 Traceback (most recent call last)",
      "Cell \u001b[0;32mIn[7], line 8\u001b[0m\n\u001b[1;32m      3\u001b[0m     df\u001b[38;5;241m=\u001b[39mspark\u001b[38;5;241m.\u001b[39mread\u001b[38;5;241m.\u001b[39moption(\u001b[38;5;124m\"\u001b[39m\u001b[38;5;124mheader\u001b[39m\u001b[38;5;124m\"\u001b[39m,\u001b[38;5;124m\"\u001b[39m\u001b[38;5;124mtrue\u001b[39m\u001b[38;5;124m\"\u001b[39m)\u001b[38;5;241m.\u001b[39moption(\u001b[38;5;124m\"\u001b[39m\u001b[38;5;124minferSchema\u001b[39m\u001b[38;5;124m\"\u001b[39m, \u001b[38;5;124m\"\u001b[39m\u001b[38;5;124mtrue\u001b[39m\u001b[38;5;124m\"\u001b[39m)\u001b[38;5;241m.\u001b[39mcsv(\u001b[38;5;124m\"\u001b[39m\u001b[38;5;124m./dataPreprocessed/\u001b[39m\u001b[38;5;124m\"\u001b[39m\u001b[38;5;241m+\u001b[39mfilename)\n\u001b[1;32m      6\u001b[0m     dfs\u001b[38;5;241m.\u001b[39mappend(df)\n\u001b[0;32m----> 8\u001b[0m merged_df \u001b[38;5;241m=\u001b[39m reduce(\u001b[38;5;28;01mlambda\u001b[39;00m df1, df2: df1\u001b[38;5;241m.\u001b[39munion(df2), dfs)\n\u001b[1;32m     10\u001b[0m \u001b[38;5;66;03m# Extract year from file name and add as a new column\u001b[39;00m\n\u001b[1;32m     11\u001b[0m merged_df \u001b[38;5;241m=\u001b[39m merged_df\u001b[38;5;241m.\u001b[39mwithColumn(\u001b[38;5;124m\"\u001b[39m\u001b[38;5;124myear\u001b[39m\u001b[38;5;124m\"\u001b[39m, csv_file\u001b[38;5;241m.\u001b[39msplit(\u001b[38;5;124m\"\u001b[39m\u001b[38;5;124m.\u001b[39m\u001b[38;5;124m\"\u001b[39m)[\u001b[38;5;241m0\u001b[39m]\u001b[38;5;241m.\u001b[39mcast(\u001b[38;5;124m\"\u001b[39m\u001b[38;5;124mint\u001b[39m\u001b[38;5;124m\"\u001b[39m))\n",
      "File \u001b[0;32m~/anaconda3/lib/python3.11/site-packages/pyspark/sql/utils.py:174\u001b[0m, in \u001b[0;36mtry_remote_functions.<locals>.wrapped\u001b[0;34m(*args, **kwargs)\u001b[0m\n\u001b[1;32m    172\u001b[0m     \u001b[38;5;28;01mreturn\u001b[39;00m \u001b[38;5;28mgetattr\u001b[39m(functions, f\u001b[38;5;241m.\u001b[39m\u001b[38;5;18m__name__\u001b[39m)(\u001b[38;5;241m*\u001b[39margs, \u001b[38;5;241m*\u001b[39m\u001b[38;5;241m*\u001b[39mkwargs)\n\u001b[1;32m    173\u001b[0m \u001b[38;5;28;01melse\u001b[39;00m:\n\u001b[0;32m--> 174\u001b[0m     \u001b[38;5;28;01mreturn\u001b[39;00m f(\u001b[38;5;241m*\u001b[39margs, \u001b[38;5;241m*\u001b[39m\u001b[38;5;241m*\u001b[39mkwargs)\n",
      "\u001b[0;31mTypeError\u001b[0m: reduce() missing 1 required positional argument: 'merge'"
     ]
    }
   ],
   "source": [
    "for csv_file in os.listdir(\"./dataPreprocessed\"):\n",
    "\n",
    "    df=spark.read.option(\"header\",\"true\").option(\"inferSchema\", \"true\").csv(\"./dataPreprocessed/\"+filename)\n",
    "\n",
    "   \n",
    "    dfs.append(df)\n",
    "\n",
    "merged_df = reduce(lambda df1, df2: df1.union(df2), dfs)\n",
    "\n",
    "# Extract year from file name and add as a new column\n",
    "merged_df = merged_df.withColumn(\"year\", csv_file.split(\".\")[0].cast(\"int\"))\n",
    "\n",
    "# Sort the DataFrame by \"month\" and \"year\"\n",
    "merged_df = merged_df.orderBy(\"month\", \"year\")\n",
    "\n",
    "# Write the merged DataFrame to a new CSV file\n",
    "merged_df.write.csv(\"merged_data.csv\", header=True)\n",
    "\n",
    "# Write the merged DataFrame to a new CSV file\n",
    "merged_df.write.csv(\"./merged_data.csv\", header=True)"
   ]
  }
 ],
 "metadata": {
  "kernelspec": {
   "display_name": "base",
   "language": "python",
   "name": "python3"
  },
  "language_info": {
   "codemirror_mode": {
    "name": "ipython",
    "version": 3
   },
   "file_extension": ".py",
   "mimetype": "text/x-python",
   "name": "python",
   "nbconvert_exporter": "python",
   "pygments_lexer": "ipython3",
   "version": "3.11.5"
  }
 },
 "nbformat": 4,
 "nbformat_minor": 2
}
