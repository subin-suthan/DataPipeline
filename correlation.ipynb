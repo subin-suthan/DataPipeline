{
 "cells": [
  {
   "cell_type": "code",
   "execution_count": 6,
   "metadata": {},
   "outputs": [],
   "source": [
    "import pyspark as sp\n",
    "from pyspark.sql import SparkSession\n",
    "from pyspark.sql.functions import col,date_format,concat,substring,lit,lpad,to_timestamp,when, avg,year\n",
    "import  pandas as pd\n",
    "import os"
   ]
  },
  {
   "cell_type": "code",
   "execution_count": 7,
   "metadata": {},
   "outputs": [],
   "source": [
    "spark = SparkSession.builder \\\n",
    "    .appName(\"Combine CSV Files and Calculate Average\") \\\n",
    "    .getOrCreate()"
   ]
  },
  {
   "cell_type": "code",
   "execution_count": 15,
   "metadata": {},
   "outputs": [],
   "source": [
    "result_df = spark.createDataFrame([], schema=\"year INT, winddir DOUBLE, sky DOUBLE, visdist DOUBLE, airtemp DOUBLE, dewpointtemp DOUBLE, atmpress DOUBLE\")\n"
   ]
  },
  {
   "cell_type": "code",
   "execution_count": 19,
   "metadata": {},
   "outputs": [
    {
     "data": {
      "text/plain": [
       "DataFrame[summary: string, year: string, winddir: string, sky: string, visdist: string, airtemp: string, dewpointtemp: string, atmpress: string]"
      ]
     },
     "execution_count": 19,
     "metadata": {},
     "output_type": "execute_result"
    }
   ],
   "source": [
    "for current_year in range(1976, 2025):\n",
    "    # Read CSV file for the current year\n",
    "    file_path = f\"./dataPreprocessed/{current_year}.csv\"\n",
    "    df = spark.read.option(\"header\", \"true\").csv(file_path)\n",
    "\n",
    "    # Parse the 'date' column to extract the year\n",
    "    df = df.withColumn(\"year\", year(\"date\"))\n",
    "\n",
    "    # Group the DataFrame by year and calculate the average of each column\n",
    "    avg_df = df.groupBy(\"year\").agg(\n",
    "       \n",
    "      \n",
    "        avg(\"winddir\").alias(\"winddir\"),\n",
    "        avg(\"sky\").alias(\"sky\"),\n",
    "        avg(\"visdist\").alias(\"visdist\"),\n",
    "        avg(\"airtemp\").alias(\"airtemp\"),\n",
    "        avg(\"dewpointtemp\").alias(\"dewpointtemp\"),\n",
    "        avg(\"atmpress\").alias(\"atmpress\")\n",
    "    )\n",
    "    result_df = result_df.union(avg_df)\n",
    "result_df.show()"
   ]
  }
 ],
 "metadata": {
  "kernelspec": {
   "display_name": "base",
   "language": "python",
   "name": "python3"
  },
  "language_info": {
   "codemirror_mode": {
    "name": "ipython",
    "version": 3
   },
   "file_extension": ".py",
   "mimetype": "text/x-python",
   "name": "python",
   "nbconvert_exporter": "python",
   "pygments_lexer": "ipython3",
   "version": "3.11.5"
  }
 },
 "nbformat": 4,
 "nbformat_minor": 2
}
