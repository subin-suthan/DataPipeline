{
 "cells": [
  {
   "cell_type": "code",
   "execution_count": 18,
   "metadata": {},
   "outputs": [],
   "source": [
    "import pyspark as sp\n",
    "from pyspark.sql import SparkSession\n",
    "from pyspark.sql.functions import col,date_format,concat,substring,lit,lpad,to_timestamp,when,mean,avg,reduce,DataFrame\n",
    "import  pandas as pd\n",
    "import os\n",
    "from sklearn.model_selection import train_test_split\n",
    "from sklearn.linear_model import LinearRegression\n",
    "from sklearn.metrics import mean_squared_error\n",
    "import matplotlib.pyplot as plt\n",
    "import numpy as np"
   ]
  },
  {
   "cell_type": "code",
   "execution_count": 2,
   "metadata": {},
   "outputs": [
    {
     "name": "stderr",
     "output_type": "stream",
     "text": [
      "24/04/21 14:16:38 WARN Utils: Your hostname, Subins-MacBook-Pro.local resolves to a loopback address: 127.0.0.1; using 10.65.210.91 instead (on interface en0)\n",
      "24/04/21 14:16:38 WARN Utils: Set SPARK_LOCAL_IP if you need to bind to another address\n",
      "Setting default log level to \"WARN\".\n",
      "To adjust logging level use sc.setLogLevel(newLevel). For SparkR, use setLogLevel(newLevel).\n",
      "24/04/21 14:16:39 WARN NativeCodeLoader: Unable to load native-hadoop library for your platform... using builtin-java classes where applicable\n"
     ]
    }
   ],
   "source": [
    "spark = SparkSession.builder \\\n",
    "    .appName(\"PreProcessing\") \\\n",
    "    .getOrCreate()"
   ]
  },
  {
   "cell_type": "code",
   "execution_count": 3,
   "metadata": {},
   "outputs": [],
   "source": [
    "dfs = []"
   ]
  },
  {
   "cell_type": "code",
   "execution_count": 13,
   "metadata": {},
   "outputs": [],
   "source": [
    "all_files = os.listdir('./dataPreprocessed')\n",
    "\n",
    "# Filter out non-CSV files\n",
    "csv_files = [f for f in all_files if f.endswith('.csv')]\n",
    "\n",
    "# Create a list to hold the dataframes\n",
    "df_list = []\n",
    "\n",
    "for csv in csv_files:\n",
    "    file_path = os.path.join('./dataPreprocessed', csv)\n",
    "    try:\n",
    "        # Try reading the file using default UTF-8 encoding\n",
    "        df = pd.read_csv(file_path)\n",
    "        df_list.append(df)\n",
    "    except UnicodeDecodeError:\n",
    "        try:\n",
    "            # If UTF-8 fails, try reading the file using UTF-16 encoding with tab separator\n",
    "            df = pd.read_csv(file_path, sep='\\t', encoding='utf-16')\n",
    "            df_list.append(df)\n",
    "        except Exception as e:\n",
    "            print(f\"Could not read file {csv} because of error: {e}\")\n",
    "    except Exception as e:\n",
    "        print(f\"Could not read file {csv} because of error: {e}\")\n",
    "\n",
    "# Concatenate all data into one DataFrame\n",
    "big_df = pd.concat(df_list, ignore_index=True)\n",
    "\n",
    "# Save the final result to a new CSV file\n",
    "big_df.to_csv('./merged.csv', index=False)"
   ]
  },
  {
   "cell_type": "code",
   "execution_count": 14,
   "metadata": {},
   "outputs": [],
   "source": [
    "file_path = './merged.csv'\n",
    "df = pd.read_csv(file_path)\n",
    "\n",
    "# Create a new column and fill it with row numbers\n",
    "df['val'] = df.index + 1\n",
    "\n",
    "# Save the modified DataFrame back to a CSV file\n",
    "output_file_path = './modified_file.csv'\n",
    "df.to_csv(output_file_path, index=False)"
   ]
  }
 ],
 "metadata": {
  "kernelspec": {
   "display_name": "base",
   "language": "python",
   "name": "python3"
  },
  "language_info": {
   "codemirror_mode": {
    "name": "ipython",
    "version": 3
   },
   "file_extension": ".py",
   "mimetype": "text/x-python",
   "name": "python",
   "nbconvert_exporter": "python",
   "pygments_lexer": "ipython3",
   "version": "3.11.5"
  }
 },
 "nbformat": 4,
 "nbformat_minor": 2
}
